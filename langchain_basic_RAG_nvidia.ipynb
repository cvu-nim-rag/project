{
  "cells": [
    {
      "cell_type": "markdown",
      "id": "c5fb0b9e-f9cd-404f-bd8d-0273e94ac1fe",
      "metadata": {
        "id": "c5fb0b9e-f9cd-404f-bd8d-0273e94ac1fe"
      },
      "source": [
        "# RAG Example Using NVIDIA API Catalog and LangChain"
      ]
    },
    {
      "cell_type": "markdown",
      "id": "2969cdab-82fc-4ce5-bde1-b4f629691f27",
      "metadata": {
        "id": "2969cdab-82fc-4ce5-bde1-b4f629691f27"
      },
      "source": [
        "This notebook introduces how to use LangChain to interact with NVIDIA hosted NIM microservices like chat, embedding, and reranking models to build a simple retrieval-augmented generation (RAG) application."
      ]
    },
    {
      "cell_type": "markdown",
      "id": "e4253bd0-4313-4056-95f5-899a180879c2",
      "metadata": {
        "id": "e4253bd0-4313-4056-95f5-899a180879c2"
      },
      "source": [
        "## Terminology"
      ]
    },
    {
      "cell_type": "markdown",
      "id": "5a084a00-b65d-483a-a7c6-b4c12e4272dd",
      "metadata": {
        "id": "5a084a00-b65d-483a-a7c6-b4c12e4272dd"
      },
      "source": [
        "#### RAG\n",
        "\n",
        "- RAG is a technique for augmenting LLM knowledge with additional data.\n",
        "- LLMs can reason about wide-ranging topics, but their knowledge is limited to the public data up to a specific point in time that they were trained on.\n",
        "- If you want to build AI applications that can reason about private data or data introduced after a model's cutoff date, you need to augment the knowledge of the model with the specific information it needs.\n",
        "- The process of bringing the appropriate information and inserting it into the model prompt is known as retrieval augmented generation (RAG).\n",
        "\n",
        "The preceding summary of RAG originates in the LangChain v0.2 tutorial [Build a RAG App](https://python.langchain.com/v0.2/docs/tutorials/rag/) tutorial in the LangChain v0.2 documentation.\n",
        "\n",
        "#### NIM\n",
        "\n",
        "- [NIM microservices](https://developer.nvidia.com/blog/nvidia-nim-offers-optimized-inference-microservices-for-deploying-ai-models-at-scale/) are containerized microservices that simplify the deployment of generative AI models like LLMs and are optimized to run on NVIDIA GPUs.\n",
        "- NIM microservices support models across domains like chat, embedding, reranking, and more from both the community and NVIDIA.\n",
        "\n",
        "#### NVIDIA API Catalog\n",
        "\n",
        "- [NVIDIA API Catalog](https://build.nvidia.com/explore/discover) is a hosted platform for accessing a wide range of microservices online.\n",
        "- You can test models on the catalog and then export them with an NVIDIA AI Enterprise license for on-premises or cloud deployment\n",
        "\n",
        "#### langchain-nvidia-ai-endpoints\n",
        "\n",
        "- The [`langchain-nvidia-ai-endpoints`](https://pypi.org/project/langchain-nvidia-ai-endpoints/) Python package contains LangChain integrations for building applications that communicate with NVIDIA NIM microservices."
      ]
    },
    {
      "cell_type": "markdown",
      "id": "ca300278-5ff4-47c4-ab70-c6584ef73c9f",
      "metadata": {
        "id": "ca300278-5ff4-47c4-ab70-c6584ef73c9f"
      },
      "source": [
        "## Installation and Requirements\n",
        "\n",
        "Create a Python environment (preferably with Conda) using Python version 3.10.14.\n",
        "To install Jupyter Lab, refer to the [installation](https://jupyter.org/install) page."
      ]
    },
    {
      "cell_type": "code",
      "execution_count": 29,
      "id": "5de8e53a-7940-4e72-87f3-e1c014128806",
      "metadata": {
        "colab": {
          "base_uri": "https://localhost:8080/"
        },
        "collapsed": true,
        "id": "5de8e53a-7940-4e72-87f3-e1c014128806",
        "outputId": "2f26a4cb-ef97-4590-c9c8-c1118e1f3b65"
      },
      "outputs": [
        {
          "name": "stdout",
          "output_type": "stream",
          "text": [
            "Requirement already satisfied: langchain==0.2.5 in ./venv/lib/python3.10/site-packages (0.2.5)\n",
            "Requirement already satisfied: numpy<2,>=1 in ./venv/lib/python3.10/site-packages (from langchain==0.2.5) (1.26.4)\n",
            "Requirement already satisfied: tenacity<9.0.0,>=8.1.0 in ./venv/lib/python3.10/site-packages (from langchain==0.2.5) (8.5.0)\n",
            "Requirement already satisfied: langchain-core<0.3.0,>=0.2.7 in ./venv/lib/python3.10/site-packages (from langchain==0.2.5) (0.2.41)\n",
            "Requirement already satisfied: langsmith<0.2.0,>=0.1.17 in ./venv/lib/python3.10/site-packages (from langchain==0.2.5) (0.1.131)\n",
            "Requirement already satisfied: requests<3,>=2 in ./venv/lib/python3.10/site-packages (from langchain==0.2.5) (2.32.3)\n",
            "Requirement already satisfied: langchain-text-splitters<0.3.0,>=0.2.0 in ./venv/lib/python3.10/site-packages (from langchain==0.2.5) (0.2.4)\n",
            "Requirement already satisfied: async-timeout<5.0.0,>=4.0.0 in ./venv/lib/python3.10/site-packages (from langchain==0.2.5) (4.0.3)\n",
            "Requirement already satisfied: PyYAML>=5.3 in ./venv/lib/python3.10/site-packages (from langchain==0.2.5) (6.0.2)\n",
            "Requirement already satisfied: SQLAlchemy<3,>=1.4 in ./venv/lib/python3.10/site-packages (from langchain==0.2.5) (2.0.35)\n",
            "Requirement already satisfied: aiohttp<4.0.0,>=3.8.3 in ./venv/lib/python3.10/site-packages (from langchain==0.2.5) (3.10.9)\n",
            "Requirement already satisfied: pydantic<3,>=1 in ./venv/lib/python3.10/site-packages (from langchain==0.2.5) (2.9.2)\n",
            "Requirement already satisfied: yarl<2.0,>=1.12.0 in ./venv/lib/python3.10/site-packages (from aiohttp<4.0.0,>=3.8.3->langchain==0.2.5) (1.13.1)\n",
            "Requirement already satisfied: aiosignal>=1.1.2 in ./venv/lib/python3.10/site-packages (from aiohttp<4.0.0,>=3.8.3->langchain==0.2.5) (1.3.1)\n",
            "Requirement already satisfied: attrs>=17.3.0 in ./venv/lib/python3.10/site-packages (from aiohttp<4.0.0,>=3.8.3->langchain==0.2.5) (24.2.0)\n",
            "Requirement already satisfied: multidict<7.0,>=4.5 in ./venv/lib/python3.10/site-packages (from aiohttp<4.0.0,>=3.8.3->langchain==0.2.5) (6.1.0)\n",
            "Requirement already satisfied: frozenlist>=1.1.1 in ./venv/lib/python3.10/site-packages (from aiohttp<4.0.0,>=3.8.3->langchain==0.2.5) (1.4.1)\n",
            "Requirement already satisfied: aiohappyeyeballs>=2.3.0 in ./venv/lib/python3.10/site-packages (from aiohttp<4.0.0,>=3.8.3->langchain==0.2.5) (2.4.3)\n",
            "Requirement already satisfied: jsonpatch<2.0,>=1.33 in ./venv/lib/python3.10/site-packages (from langchain-core<0.3.0,>=0.2.7->langchain==0.2.5) (1.33)\n",
            "Requirement already satisfied: typing-extensions>=4.7 in ./venv/lib/python3.10/site-packages (from langchain-core<0.3.0,>=0.2.7->langchain==0.2.5) (4.12.2)\n",
            "Requirement already satisfied: packaging<25,>=23.2 in ./venv/lib/python3.10/site-packages (from langchain-core<0.3.0,>=0.2.7->langchain==0.2.5) (24.1)\n",
            "Requirement already satisfied: orjson<4.0.0,>=3.9.14 in ./venv/lib/python3.10/site-packages (from langsmith<0.2.0,>=0.1.17->langchain==0.2.5) (3.10.7)\n",
            "Requirement already satisfied: httpx<1,>=0.23.0 in ./venv/lib/python3.10/site-packages (from langsmith<0.2.0,>=0.1.17->langchain==0.2.5) (0.27.2)\n",
            "Requirement already satisfied: requests-toolbelt<2.0.0,>=1.0.0 in ./venv/lib/python3.10/site-packages (from langsmith<0.2.0,>=0.1.17->langchain==0.2.5) (1.0.0)\n",
            "Requirement already satisfied: pydantic-core==2.23.4 in ./venv/lib/python3.10/site-packages (from pydantic<3,>=1->langchain==0.2.5) (2.23.4)\n",
            "Requirement already satisfied: annotated-types>=0.6.0 in ./venv/lib/python3.10/site-packages (from pydantic<3,>=1->langchain==0.2.5) (0.7.0)\n",
            "Requirement already satisfied: urllib3<3,>=1.21.1 in ./venv/lib/python3.10/site-packages (from requests<3,>=2->langchain==0.2.5) (2.2.3)\n",
            "Requirement already satisfied: certifi>=2017.4.17 in ./venv/lib/python3.10/site-packages (from requests<3,>=2->langchain==0.2.5) (2024.8.30)\n",
            "Requirement already satisfied: idna<4,>=2.5 in ./venv/lib/python3.10/site-packages (from requests<3,>=2->langchain==0.2.5) (3.10)\n",
            "Requirement already satisfied: charset-normalizer<4,>=2 in ./venv/lib/python3.10/site-packages (from requests<3,>=2->langchain==0.2.5) (3.3.2)\n",
            "Requirement already satisfied: greenlet!=0.4.17 in ./venv/lib/python3.10/site-packages (from SQLAlchemy<3,>=1.4->langchain==0.2.5) (3.1.1)\n",
            "Requirement already satisfied: anyio in ./venv/lib/python3.10/site-packages (from httpx<1,>=0.23.0->langsmith<0.2.0,>=0.1.17->langchain==0.2.5) (4.6.0)\n",
            "Requirement already satisfied: sniffio in ./venv/lib/python3.10/site-packages (from httpx<1,>=0.23.0->langsmith<0.2.0,>=0.1.17->langchain==0.2.5) (1.3.1)\n",
            "Requirement already satisfied: httpcore==1.* in ./venv/lib/python3.10/site-packages (from httpx<1,>=0.23.0->langsmith<0.2.0,>=0.1.17->langchain==0.2.5) (1.0.6)\n",
            "Requirement already satisfied: h11<0.15,>=0.13 in ./venv/lib/python3.10/site-packages (from httpcore==1.*->httpx<1,>=0.23.0->langsmith<0.2.0,>=0.1.17->langchain==0.2.5) (0.14.0)\n",
            "Requirement already satisfied: jsonpointer>=1.9 in ./venv/lib/python3.10/site-packages (from jsonpatch<2.0,>=1.33->langchain-core<0.3.0,>=0.2.7->langchain==0.2.5) (3.0.0)\n",
            "Requirement already satisfied: exceptiongroup>=1.0.2 in ./venv/lib/python3.10/site-packages (from anyio->httpx<1,>=0.23.0->langsmith<0.2.0,>=0.1.17->langchain==0.2.5) (1.2.2)\n",
            "Requirement already satisfied: langchain_community==0.2.5 in ./venv/lib/python3.10/site-packages (0.2.5)\n",
            "Requirement already satisfied: tenacity<9.0.0,>=8.1.0 in ./venv/lib/python3.10/site-packages (from langchain_community==0.2.5) (8.5.0)\n",
            "Requirement already satisfied: PyYAML>=5.3 in ./venv/lib/python3.10/site-packages (from langchain_community==0.2.5) (6.0.2)\n",
            "Requirement already satisfied: dataclasses-json<0.7,>=0.5.7 in ./venv/lib/python3.10/site-packages (from langchain_community==0.2.5) (0.6.7)\n",
            "Requirement already satisfied: langchain-core<0.3.0,>=0.2.7 in ./venv/lib/python3.10/site-packages (from langchain_community==0.2.5) (0.2.41)\n",
            "Requirement already satisfied: requests<3,>=2 in ./venv/lib/python3.10/site-packages (from langchain_community==0.2.5) (2.32.3)\n",
            "Requirement already satisfied: langchain<0.3.0,>=0.2.5 in ./venv/lib/python3.10/site-packages (from langchain_community==0.2.5) (0.2.5)\n",
            "Requirement already satisfied: numpy<2,>=1 in ./venv/lib/python3.10/site-packages (from langchain_community==0.2.5) (1.26.4)\n",
            "Requirement already satisfied: langsmith<0.2.0,>=0.1.0 in ./venv/lib/python3.10/site-packages (from langchain_community==0.2.5) (0.1.131)\n",
            "Requirement already satisfied: SQLAlchemy<3,>=1.4 in ./venv/lib/python3.10/site-packages (from langchain_community==0.2.5) (2.0.35)\n",
            "Requirement already satisfied: aiohttp<4.0.0,>=3.8.3 in ./venv/lib/python3.10/site-packages (from langchain_community==0.2.5) (3.10.9)\n",
            "Requirement already satisfied: yarl<2.0,>=1.12.0 in ./venv/lib/python3.10/site-packages (from aiohttp<4.0.0,>=3.8.3->langchain_community==0.2.5) (1.13.1)\n",
            "Requirement already satisfied: attrs>=17.3.0 in ./venv/lib/python3.10/site-packages (from aiohttp<4.0.0,>=3.8.3->langchain_community==0.2.5) (24.2.0)\n",
            "Requirement already satisfied: aiosignal>=1.1.2 in ./venv/lib/python3.10/site-packages (from aiohttp<4.0.0,>=3.8.3->langchain_community==0.2.5) (1.3.1)\n",
            "Requirement already satisfied: async-timeout<5.0,>=4.0 in ./venv/lib/python3.10/site-packages (from aiohttp<4.0.0,>=3.8.3->langchain_community==0.2.5) (4.0.3)\n",
            "Requirement already satisfied: aiohappyeyeballs>=2.3.0 in ./venv/lib/python3.10/site-packages (from aiohttp<4.0.0,>=3.8.3->langchain_community==0.2.5) (2.4.3)\n",
            "Requirement already satisfied: frozenlist>=1.1.1 in ./venv/lib/python3.10/site-packages (from aiohttp<4.0.0,>=3.8.3->langchain_community==0.2.5) (1.4.1)\n",
            "Requirement already satisfied: multidict<7.0,>=4.5 in ./venv/lib/python3.10/site-packages (from aiohttp<4.0.0,>=3.8.3->langchain_community==0.2.5) (6.1.0)\n",
            "Requirement already satisfied: marshmallow<4.0.0,>=3.18.0 in ./venv/lib/python3.10/site-packages (from dataclasses-json<0.7,>=0.5.7->langchain_community==0.2.5) (3.22.0)\n",
            "Requirement already satisfied: typing-inspect<1,>=0.4.0 in ./venv/lib/python3.10/site-packages (from dataclasses-json<0.7,>=0.5.7->langchain_community==0.2.5) (0.9.0)\n",
            "Requirement already satisfied: pydantic<3,>=1 in ./venv/lib/python3.10/site-packages (from langchain<0.3.0,>=0.2.5->langchain_community==0.2.5) (2.9.2)\n",
            "Requirement already satisfied: langchain-text-splitters<0.3.0,>=0.2.0 in ./venv/lib/python3.10/site-packages (from langchain<0.3.0,>=0.2.5->langchain_community==0.2.5) (0.2.4)\n",
            "Requirement already satisfied: typing-extensions>=4.7 in ./venv/lib/python3.10/site-packages (from langchain-core<0.3.0,>=0.2.7->langchain_community==0.2.5) (4.12.2)\n",
            "Requirement already satisfied: jsonpatch<2.0,>=1.33 in ./venv/lib/python3.10/site-packages (from langchain-core<0.3.0,>=0.2.7->langchain_community==0.2.5) (1.33)\n",
            "Requirement already satisfied: packaging<25,>=23.2 in ./venv/lib/python3.10/site-packages (from langchain-core<0.3.0,>=0.2.7->langchain_community==0.2.5) (24.1)\n",
            "Requirement already satisfied: orjson<4.0.0,>=3.9.14 in ./venv/lib/python3.10/site-packages (from langsmith<0.2.0,>=0.1.0->langchain_community==0.2.5) (3.10.7)\n",
            "Requirement already satisfied: requests-toolbelt<2.0.0,>=1.0.0 in ./venv/lib/python3.10/site-packages (from langsmith<0.2.0,>=0.1.0->langchain_community==0.2.5) (1.0.0)\n",
            "Requirement already satisfied: httpx<1,>=0.23.0 in ./venv/lib/python3.10/site-packages (from langsmith<0.2.0,>=0.1.0->langchain_community==0.2.5) (0.27.2)\n",
            "Requirement already satisfied: urllib3<3,>=1.21.1 in ./venv/lib/python3.10/site-packages (from requests<3,>=2->langchain_community==0.2.5) (2.2.3)\n",
            "Requirement already satisfied: charset-normalizer<4,>=2 in ./venv/lib/python3.10/site-packages (from requests<3,>=2->langchain_community==0.2.5) (3.3.2)\n",
            "Requirement already satisfied: idna<4,>=2.5 in ./venv/lib/python3.10/site-packages (from requests<3,>=2->langchain_community==0.2.5) (3.10)\n",
            "Requirement already satisfied: certifi>=2017.4.17 in ./venv/lib/python3.10/site-packages (from requests<3,>=2->langchain_community==0.2.5) (2024.8.30)\n",
            "Requirement already satisfied: greenlet!=0.4.17 in ./venv/lib/python3.10/site-packages (from SQLAlchemy<3,>=1.4->langchain_community==0.2.5) (3.1.1)\n",
            "Requirement already satisfied: httpcore==1.* in ./venv/lib/python3.10/site-packages (from httpx<1,>=0.23.0->langsmith<0.2.0,>=0.1.0->langchain_community==0.2.5) (1.0.6)\n",
            "Requirement already satisfied: anyio in ./venv/lib/python3.10/site-packages (from httpx<1,>=0.23.0->langsmith<0.2.0,>=0.1.0->langchain_community==0.2.5) (4.6.0)\n",
            "Requirement already satisfied: sniffio in ./venv/lib/python3.10/site-packages (from httpx<1,>=0.23.0->langsmith<0.2.0,>=0.1.0->langchain_community==0.2.5) (1.3.1)\n",
            "Requirement already satisfied: h11<0.15,>=0.13 in ./venv/lib/python3.10/site-packages (from httpcore==1.*->httpx<1,>=0.23.0->langsmith<0.2.0,>=0.1.0->langchain_community==0.2.5) (0.14.0)\n",
            "Requirement already satisfied: jsonpointer>=1.9 in ./venv/lib/python3.10/site-packages (from jsonpatch<2.0,>=1.33->langchain-core<0.3.0,>=0.2.7->langchain_community==0.2.5) (3.0.0)\n",
            "Requirement already satisfied: pydantic-core==2.23.4 in ./venv/lib/python3.10/site-packages (from pydantic<3,>=1->langchain<0.3.0,>=0.2.5->langchain_community==0.2.5) (2.23.4)\n",
            "Requirement already satisfied: annotated-types>=0.6.0 in ./venv/lib/python3.10/site-packages (from pydantic<3,>=1->langchain<0.3.0,>=0.2.5->langchain_community==0.2.5) (0.7.0)\n",
            "Requirement already satisfied: mypy-extensions>=0.3.0 in ./venv/lib/python3.10/site-packages (from typing-inspect<1,>=0.4.0->dataclasses-json<0.7,>=0.5.7->langchain_community==0.2.5) (1.0.0)\n",
            "Requirement already satisfied: exceptiongroup>=1.0.2 in ./venv/lib/python3.10/site-packages (from anyio->httpx<1,>=0.23.0->langsmith<0.2.0,>=0.1.0->langchain_community==0.2.5) (1.2.2)\n",
            "Requirement already satisfied: faiss-gpu in ./venv/lib/python3.10/site-packages (1.7.2)\n",
            "Requirement already satisfied: langchain-nvidia-ai-endpoints==0.1.2 in ./venv/lib/python3.10/site-packages (0.1.2)\n",
            "Requirement already satisfied: langchain-core<0.3,>=0.1.27 in ./venv/lib/python3.10/site-packages (from langchain-nvidia-ai-endpoints==0.1.2) (0.2.41)\n",
            "Requirement already satisfied: pillow<11.0.0,>=10.0.0 in ./venv/lib/python3.10/site-packages (from langchain-nvidia-ai-endpoints==0.1.2) (10.4.0)\n",
            "Requirement already satisfied: aiohttp<4.0.0,>=3.9.1 in ./venv/lib/python3.10/site-packages (from langchain-nvidia-ai-endpoints==0.1.2) (3.10.9)\n",
            "Requirement already satisfied: async-timeout<5.0,>=4.0 in ./venv/lib/python3.10/site-packages (from aiohttp<4.0.0,>=3.9.1->langchain-nvidia-ai-endpoints==0.1.2) (4.0.3)\n",
            "Requirement already satisfied: attrs>=17.3.0 in ./venv/lib/python3.10/site-packages (from aiohttp<4.0.0,>=3.9.1->langchain-nvidia-ai-endpoints==0.1.2) (24.2.0)\n",
            "Requirement already satisfied: yarl<2.0,>=1.12.0 in ./venv/lib/python3.10/site-packages (from aiohttp<4.0.0,>=3.9.1->langchain-nvidia-ai-endpoints==0.1.2) (1.13.1)\n",
            "Requirement already satisfied: frozenlist>=1.1.1 in ./venv/lib/python3.10/site-packages (from aiohttp<4.0.0,>=3.9.1->langchain-nvidia-ai-endpoints==0.1.2) (1.4.1)\n",
            "Requirement already satisfied: aiosignal>=1.1.2 in ./venv/lib/python3.10/site-packages (from aiohttp<4.0.0,>=3.9.1->langchain-nvidia-ai-endpoints==0.1.2) (1.3.1)\n",
            "Requirement already satisfied: multidict<7.0,>=4.5 in ./venv/lib/python3.10/site-packages (from aiohttp<4.0.0,>=3.9.1->langchain-nvidia-ai-endpoints==0.1.2) (6.1.0)\n",
            "Requirement already satisfied: aiohappyeyeballs>=2.3.0 in ./venv/lib/python3.10/site-packages (from aiohttp<4.0.0,>=3.9.1->langchain-nvidia-ai-endpoints==0.1.2) (2.4.3)\n",
            "Requirement already satisfied: jsonpatch<2.0,>=1.33 in ./venv/lib/python3.10/site-packages (from langchain-core<0.3,>=0.1.27->langchain-nvidia-ai-endpoints==0.1.2) (1.33)\n",
            "Requirement already satisfied: pydantic<3,>=1 in ./venv/lib/python3.10/site-packages (from langchain-core<0.3,>=0.1.27->langchain-nvidia-ai-endpoints==0.1.2) (2.9.2)\n",
            "Requirement already satisfied: typing-extensions>=4.7 in ./venv/lib/python3.10/site-packages (from langchain-core<0.3,>=0.1.27->langchain-nvidia-ai-endpoints==0.1.2) (4.12.2)\n",
            "Requirement already satisfied: langsmith<0.2.0,>=0.1.112 in ./venv/lib/python3.10/site-packages (from langchain-core<0.3,>=0.1.27->langchain-nvidia-ai-endpoints==0.1.2) (0.1.131)\n",
            "Requirement already satisfied: PyYAML>=5.3 in ./venv/lib/python3.10/site-packages (from langchain-core<0.3,>=0.1.27->langchain-nvidia-ai-endpoints==0.1.2) (6.0.2)\n",
            "Requirement already satisfied: packaging<25,>=23.2 in ./venv/lib/python3.10/site-packages (from langchain-core<0.3,>=0.1.27->langchain-nvidia-ai-endpoints==0.1.2) (24.1)\n",
            "Requirement already satisfied: tenacity!=8.4.0,<9.0.0,>=8.1.0 in ./venv/lib/python3.10/site-packages (from langchain-core<0.3,>=0.1.27->langchain-nvidia-ai-endpoints==0.1.2) (8.5.0)\n",
            "Requirement already satisfied: jsonpointer>=1.9 in ./venv/lib/python3.10/site-packages (from jsonpatch<2.0,>=1.33->langchain-core<0.3,>=0.1.27->langchain-nvidia-ai-endpoints==0.1.2) (3.0.0)\n",
            "Requirement already satisfied: requests<3,>=2 in ./venv/lib/python3.10/site-packages (from langsmith<0.2.0,>=0.1.112->langchain-core<0.3,>=0.1.27->langchain-nvidia-ai-endpoints==0.1.2) (2.32.3)\n",
            "Requirement already satisfied: requests-toolbelt<2.0.0,>=1.0.0 in ./venv/lib/python3.10/site-packages (from langsmith<0.2.0,>=0.1.112->langchain-core<0.3,>=0.1.27->langchain-nvidia-ai-endpoints==0.1.2) (1.0.0)\n",
            "Requirement already satisfied: httpx<1,>=0.23.0 in ./venv/lib/python3.10/site-packages (from langsmith<0.2.0,>=0.1.112->langchain-core<0.3,>=0.1.27->langchain-nvidia-ai-endpoints==0.1.2) (0.27.2)\n",
            "Requirement already satisfied: orjson<4.0.0,>=3.9.14 in ./venv/lib/python3.10/site-packages (from langsmith<0.2.0,>=0.1.112->langchain-core<0.3,>=0.1.27->langchain-nvidia-ai-endpoints==0.1.2) (3.10.7)\n",
            "Requirement already satisfied: annotated-types>=0.6.0 in ./venv/lib/python3.10/site-packages (from pydantic<3,>=1->langchain-core<0.3,>=0.1.27->langchain-nvidia-ai-endpoints==0.1.2) (0.7.0)\n",
            "Requirement already satisfied: pydantic-core==2.23.4 in ./venv/lib/python3.10/site-packages (from pydantic<3,>=1->langchain-core<0.3,>=0.1.27->langchain-nvidia-ai-endpoints==0.1.2) (2.23.4)\n",
            "Requirement already satisfied: idna>=2.0 in ./venv/lib/python3.10/site-packages (from yarl<2.0,>=1.12.0->aiohttp<4.0.0,>=3.9.1->langchain-nvidia-ai-endpoints==0.1.2) (3.10)\n",
            "Requirement already satisfied: certifi in ./venv/lib/python3.10/site-packages (from httpx<1,>=0.23.0->langsmith<0.2.0,>=0.1.112->langchain-core<0.3,>=0.1.27->langchain-nvidia-ai-endpoints==0.1.2) (2024.8.30)\n",
            "Requirement already satisfied: anyio in ./venv/lib/python3.10/site-packages (from httpx<1,>=0.23.0->langsmith<0.2.0,>=0.1.112->langchain-core<0.3,>=0.1.27->langchain-nvidia-ai-endpoints==0.1.2) (4.6.0)\n",
            "Requirement already satisfied: httpcore==1.* in ./venv/lib/python3.10/site-packages (from httpx<1,>=0.23.0->langsmith<0.2.0,>=0.1.112->langchain-core<0.3,>=0.1.27->langchain-nvidia-ai-endpoints==0.1.2) (1.0.6)\n",
            "Requirement already satisfied: sniffio in ./venv/lib/python3.10/site-packages (from httpx<1,>=0.23.0->langsmith<0.2.0,>=0.1.112->langchain-core<0.3,>=0.1.27->langchain-nvidia-ai-endpoints==0.1.2) (1.3.1)\n",
            "Requirement already satisfied: h11<0.15,>=0.13 in ./venv/lib/python3.10/site-packages (from httpcore==1.*->httpx<1,>=0.23.0->langsmith<0.2.0,>=0.1.112->langchain-core<0.3,>=0.1.27->langchain-nvidia-ai-endpoints==0.1.2) (0.14.0)\n",
            "Requirement already satisfied: charset-normalizer<4,>=2 in ./venv/lib/python3.10/site-packages (from requests<3,>=2->langsmith<0.2.0,>=0.1.112->langchain-core<0.3,>=0.1.27->langchain-nvidia-ai-endpoints==0.1.2) (3.3.2)\n",
            "Requirement already satisfied: urllib3<3,>=1.21.1 in ./venv/lib/python3.10/site-packages (from requests<3,>=2->langsmith<0.2.0,>=0.1.112->langchain-core<0.3,>=0.1.27->langchain-nvidia-ai-endpoints==0.1.2) (2.2.3)\n",
            "Requirement already satisfied: exceptiongroup>=1.0.2 in ./venv/lib/python3.10/site-packages (from anyio->httpx<1,>=0.23.0->langsmith<0.2.0,>=0.1.112->langchain-core<0.3,>=0.1.27->langchain-nvidia-ai-endpoints==0.1.2) (1.2.2)\n",
            "Requirement already satisfied: requests in ./venv/lib/python3.10/site-packages (2.32.3)\n",
            "Requirement already satisfied: faiss-cpu in ./venv/lib/python3.10/site-packages (1.8.0.post1)\n",
            "Requirement already satisfied: pdfplumber in ./venv/lib/python3.10/site-packages (0.11.4)\n",
            "Requirement already satisfied: spacy in ./venv/lib/python3.10/site-packages (3.7.5)\n",
            "Requirement already satisfied: camelot-py in ./venv/lib/python3.10/site-packages (0.11.0)\n",
            "Requirement already satisfied: pandas==2 in ./venv/lib/python3.10/site-packages (2.0.0)\n",
            "Requirement already satisfied: numpy==1.26.4 in ./venv/lib/python3.10/site-packages (1.26.4)\n",
            "Requirement already satisfied: beautifulsoup4 in ./venv/lib/python3.10/site-packages (4.12.3)\n",
            "Requirement already satisfied: pymupdf in ./venv/lib/python3.10/site-packages (1.24.11)\n",
            "Requirement already satisfied: tzdata>=2022.1 in ./venv/lib/python3.10/site-packages (from pandas==2) (2024.2)\n",
            "Requirement already satisfied: python-dateutil>=2.8.2 in ./venv/lib/python3.10/site-packages (from pandas==2) (2.9.0.post0)\n",
            "Requirement already satisfied: pytz>=2020.1 in ./venv/lib/python3.10/site-packages (from pandas==2) (2024.2)\n",
            "Requirement already satisfied: idna<4,>=2.5 in ./venv/lib/python3.10/site-packages (from requests) (3.10)\n",
            "Requirement already satisfied: urllib3<3,>=1.21.1 in ./venv/lib/python3.10/site-packages (from requests) (2.2.3)\n",
            "Requirement already satisfied: certifi>=2017.4.17 in ./venv/lib/python3.10/site-packages (from requests) (2024.8.30)\n",
            "Requirement already satisfied: charset-normalizer<4,>=2 in ./venv/lib/python3.10/site-packages (from requests) (3.3.2)\n",
            "Requirement already satisfied: packaging in ./venv/lib/python3.10/site-packages (from faiss-cpu) (24.1)\n",
            "Requirement already satisfied: pypdfium2>=4.18.0 in ./venv/lib/python3.10/site-packages (from pdfplumber) (4.30.0)\n",
            "Requirement already satisfied: Pillow>=9.1 in ./venv/lib/python3.10/site-packages (from pdfplumber) (10.4.0)\n",
            "Requirement already satisfied: pdfminer.six==20231228 in ./venv/lib/python3.10/site-packages (from pdfplumber) (20231228)\n",
            "Requirement already satisfied: cryptography>=36.0.0 in ./venv/lib/python3.10/site-packages (from pdfminer.six==20231228->pdfplumber) (43.0.1)\n",
            "Requirement already satisfied: tqdm<5.0.0,>=4.38.0 in ./venv/lib/python3.10/site-packages (from spacy) (4.66.5)\n",
            "Requirement already satisfied: murmurhash<1.1.0,>=0.28.0 in ./venv/lib/python3.10/site-packages (from spacy) (1.0.10)\n",
            "Requirement already satisfied: jinja2 in ./venv/lib/python3.10/site-packages (from spacy) (3.1.4)\n",
            "Requirement already satisfied: preshed<3.1.0,>=3.0.2 in ./venv/lib/python3.10/site-packages (from spacy) (3.0.9)\n",
            "Requirement already satisfied: setuptools in ./venv/lib/python3.10/site-packages (from spacy) (59.6.0)\n",
            "Requirement already satisfied: catalogue<2.1.0,>=2.0.6 in ./venv/lib/python3.10/site-packages (from spacy) (2.0.10)\n",
            "Requirement already satisfied: langcodes<4.0.0,>=3.2.0 in ./venv/lib/python3.10/site-packages (from spacy) (3.4.1)\n",
            "Requirement already satisfied: spacy-loggers<2.0.0,>=1.0.0 in ./venv/lib/python3.10/site-packages (from spacy) (1.0.5)\n",
            "Requirement already satisfied: spacy-legacy<3.1.0,>=3.0.11 in ./venv/lib/python3.10/site-packages (from spacy) (3.0.12)\n",
            "Requirement already satisfied: cymem<2.1.0,>=2.0.2 in ./venv/lib/python3.10/site-packages (from spacy) (2.0.8)\n",
            "Requirement already satisfied: typer<1.0.0,>=0.3.0 in ./venv/lib/python3.10/site-packages (from spacy) (0.12.5)\n",
            "Requirement already satisfied: thinc<8.3.0,>=8.2.2 in ./venv/lib/python3.10/site-packages (from spacy) (8.2.5)\n",
            "Requirement already satisfied: srsly<3.0.0,>=2.4.3 in ./venv/lib/python3.10/site-packages (from spacy) (2.4.8)\n",
            "Requirement already satisfied: pydantic!=1.8,!=1.8.1,<3.0.0,>=1.7.4 in ./venv/lib/python3.10/site-packages (from spacy) (2.9.2)\n",
            "Requirement already satisfied: wasabi<1.2.0,>=0.9.1 in ./venv/lib/python3.10/site-packages (from spacy) (1.1.3)\n",
            "Requirement already satisfied: weasel<0.5.0,>=0.1.0 in ./venv/lib/python3.10/site-packages (from spacy) (0.4.1)\n",
            "Requirement already satisfied: tabulate>=0.8.9 in ./venv/lib/python3.10/site-packages (from camelot-py) (0.9.0)\n",
            "Requirement already satisfied: pypdf>=3.0.0 in ./venv/lib/python3.10/site-packages (from camelot-py) (5.0.1)\n",
            "Requirement already satisfied: chardet>=3.0.4 in ./venv/lib/python3.10/site-packages (from camelot-py) (5.2.0)\n",
            "Requirement already satisfied: click>=6.7 in ./venv/lib/python3.10/site-packages (from camelot-py) (8.1.7)\n",
            "Requirement already satisfied: openpyxl>=2.5.8 in ./venv/lib/python3.10/site-packages (from camelot-py) (3.1.5)\n",
            "Requirement already satisfied: soupsieve>1.2 in ./venv/lib/python3.10/site-packages (from beautifulsoup4) (2.6)\n",
            "Requirement already satisfied: language-data>=1.2 in ./venv/lib/python3.10/site-packages (from langcodes<4.0.0,>=3.2.0->spacy) (1.2.0)\n",
            "Requirement already satisfied: et-xmlfile in ./venv/lib/python3.10/site-packages (from openpyxl>=2.5.8->camelot-py) (1.1.0)\n",
            "Requirement already satisfied: pydantic-core==2.23.4 in ./venv/lib/python3.10/site-packages (from pydantic!=1.8,!=1.8.1,<3.0.0,>=1.7.4->spacy) (2.23.4)\n",
            "Requirement already satisfied: annotated-types>=0.6.0 in ./venv/lib/python3.10/site-packages (from pydantic!=1.8,!=1.8.1,<3.0.0,>=1.7.4->spacy) (0.7.0)\n",
            "Requirement already satisfied: typing-extensions>=4.6.1 in ./venv/lib/python3.10/site-packages (from pydantic!=1.8,!=1.8.1,<3.0.0,>=1.7.4->spacy) (4.12.2)\n",
            "Requirement already satisfied: six>=1.5 in ./venv/lib/python3.10/site-packages (from python-dateutil>=2.8.2->pandas==2) (1.16.0)\n",
            "Requirement already satisfied: blis<0.8.0,>=0.7.8 in ./venv/lib/python3.10/site-packages (from thinc<8.3.0,>=8.2.2->spacy) (0.7.11)\n",
            "Requirement already satisfied: confection<1.0.0,>=0.0.1 in ./venv/lib/python3.10/site-packages (from thinc<8.3.0,>=8.2.2->spacy) (0.1.5)\n",
            "Requirement already satisfied: shellingham>=1.3.0 in ./venv/lib/python3.10/site-packages (from typer<1.0.0,>=0.3.0->spacy) (1.5.4)\n",
            "Requirement already satisfied: rich>=10.11.0 in ./venv/lib/python3.10/site-packages (from typer<1.0.0,>=0.3.0->spacy) (13.9.2)\n",
            "Requirement already satisfied: cloudpathlib<1.0.0,>=0.7.0 in ./venv/lib/python3.10/site-packages (from weasel<0.5.0,>=0.1.0->spacy) (0.19.0)\n",
            "Requirement already satisfied: smart-open<8.0.0,>=5.2.1 in ./venv/lib/python3.10/site-packages (from weasel<0.5.0,>=0.1.0->spacy) (7.0.5)\n",
            "Requirement already satisfied: MarkupSafe>=2.0 in ./venv/lib/python3.10/site-packages (from jinja2->spacy) (2.1.5)\n",
            "Requirement already satisfied: cffi>=1.12 in ./venv/lib/python3.10/site-packages (from cryptography>=36.0.0->pdfminer.six==20231228->pdfplumber) (1.17.1)\n",
            "Requirement already satisfied: marisa-trie>=0.7.7 in ./venv/lib/python3.10/site-packages (from language-data>=1.2->langcodes<4.0.0,>=3.2.0->spacy) (1.2.0)\n",
            "Requirement already satisfied: pygments<3.0.0,>=2.13.0 in ./venv/lib/python3.10/site-packages (from rich>=10.11.0->typer<1.0.0,>=0.3.0->spacy) (2.18.0)\n",
            "Requirement already satisfied: markdown-it-py>=2.2.0 in ./venv/lib/python3.10/site-packages (from rich>=10.11.0->typer<1.0.0,>=0.3.0->spacy) (3.0.0)\n",
            "Requirement already satisfied: wrapt in ./venv/lib/python3.10/site-packages (from smart-open<8.0.0,>=5.2.1->weasel<0.5.0,>=0.1.0->spacy) (1.16.0)\n",
            "Requirement already satisfied: pycparser in ./venv/lib/python3.10/site-packages (from cffi>=1.12->cryptography>=36.0.0->pdfminer.six==20231228->pdfplumber) (2.22)\n",
            "Requirement already satisfied: mdurl~=0.1 in ./venv/lib/python3.10/site-packages (from markdown-it-py>=2.2.0->rich>=10.11.0->typer<1.0.0,>=0.3.0->spacy) (0.1.2)\n",
            "Requirement already satisfied: lxml in ./venv/lib/python3.10/site-packages (5.3.0)\n",
            "Collecting unstructured\n",
            "  Downloading unstructured-0.15.13-py3-none-any.whl (2.1 MB)\n",
            "\u001b[2K     \u001b[90m━━━━━━━━━━━━━━━━━━━━━━━━━━━━━━━━━━━━━━━━\u001b[0m \u001b[32m2.1/2.1 MB\u001b[0m \u001b[31m644.7 kB/s\u001b[0m eta \u001b[36m0:00:00\u001b[0m00:01\u001b[0m00:01\u001b[0m\n",
            "\u001b[?25hRequirement already satisfied: chardet in ./venv/lib/python3.10/site-packages (from unstructured) (5.2.0)\n",
            "Collecting nltk\n",
            "  Downloading nltk-3.9.1-py3-none-any.whl (1.5 MB)\n",
            "\u001b[2K     \u001b[90m━━━━━━━━━━━━━━━━━━━━━━━━━━━━━━━━━━━━━━━━\u001b[0m \u001b[32m1.5/1.5 MB\u001b[0m \u001b[31m645.5 kB/s\u001b[0m eta \u001b[36m0:00:00\u001b[0m00:01\u001b[0m00:01\u001b[0m\n",
            "\u001b[?25hCollecting python-magic\n",
            "  Downloading python_magic-0.4.27-py2.py3-none-any.whl (13 kB)\n",
            "Requirement already satisfied: typing-extensions in ./venv/lib/python3.10/site-packages (from unstructured) (4.12.2)\n",
            "Requirement already satisfied: tqdm in ./venv/lib/python3.10/site-packages (from unstructured) (4.66.5)\n",
            "Requirement already satisfied: beautifulsoup4 in ./venv/lib/python3.10/site-packages (from unstructured) (4.12.3)\n",
            "Collecting filetype\n",
            "  Downloading filetype-1.2.0-py2.py3-none-any.whl (19 kB)\n",
            "Requirement already satisfied: numpy<2 in ./venv/lib/python3.10/site-packages (from unstructured) (1.26.4)\n",
            "Collecting backoff\n",
            "  Downloading backoff-2.2.1-py3-none-any.whl (15 kB)\n",
            "Requirement already satisfied: psutil in ./venv/lib/python3.10/site-packages (from unstructured) (6.0.0)\n",
            "Requirement already satisfied: lxml in ./venv/lib/python3.10/site-packages (from unstructured) (5.3.0)\n",
            "Requirement already satisfied: dataclasses-json in ./venv/lib/python3.10/site-packages (from unstructured) (0.6.7)\n",
            "Collecting python-iso639\n",
            "  Downloading python_iso639-2024.4.27-py3-none-any.whl (274 kB)\n",
            "\u001b[2K     \u001b[90m━━━━━━━━━━━━━━━━━━━━━━━━━━━━━━━━━━━━━\u001b[0m \u001b[32m274.7/274.7 KB\u001b[0m \u001b[31m640.4 kB/s\u001b[0m eta \u001b[36m0:00:00\u001b[0ma \u001b[36m0:00:01\u001b[0m\n",
            "\u001b[?25hCollecting rapidfuzz\n",
            "  Downloading rapidfuzz-3.10.0-cp310-cp310-manylinux_2_17_x86_64.manylinux2014_x86_64.whl (3.1 MB)\n",
            "\u001b[2K     \u001b[90m━━━━━━━━━━━━━━━━━━━━━━━━━━━━━━━━━━━━━━━━\u001b[0m \u001b[32m3.1/3.1 MB\u001b[0m \u001b[31m617.3 kB/s\u001b[0m eta \u001b[36m0:00:00\u001b[0m00:01\u001b[0m00:01\u001b[0m\n",
            "\u001b[?25hRequirement already satisfied: wrapt in ./venv/lib/python3.10/site-packages (from unstructured) (1.16.0)\n",
            "Requirement already satisfied: tabulate in ./venv/lib/python3.10/site-packages (from unstructured) (0.9.0)\n",
            "Collecting emoji\n",
            "  Downloading emoji-2.14.0-py3-none-any.whl (586 kB)\n",
            "\u001b[2K     \u001b[90m━━━━━━━━━━━━━━━━━━━━━━━━━━━━━━━━━━━━━\u001b[0m \u001b[32m586.9/586.9 KB\u001b[0m \u001b[31m588.5 kB/s\u001b[0m eta \u001b[36m0:00:00\u001b[0m00:01\u001b[0m00:01\u001b[0m\n",
            "\u001b[?25hCollecting unstructured-client\n",
            "  Downloading unstructured_client-0.25.9-py3-none-any.whl (45 kB)\n",
            "\u001b[2K     \u001b[90m━━━━━━━━━━━━━━━━━━━━━━━━━━━━━━━━━━━━━━━\u001b[0m \u001b[32m45.3/45.3 KB\u001b[0m \u001b[31m486.8 kB/s\u001b[0m eta \u001b[36m0:00:00\u001b[0ma \u001b[36m0:00:01\u001b[0m\n",
            "\u001b[?25hCollecting langdetect\n",
            "  Downloading langdetect-1.0.9.tar.gz (981 kB)\n",
            "\u001b[2K     \u001b[90m━━━━━━━━━━━━━━━━━━━━━━━━━━━━━━━━━━━━━\u001b[0m \u001b[32m981.5/981.5 KB\u001b[0m \u001b[31m644.8 kB/s\u001b[0m eta \u001b[36m0:00:00\u001b[0m00:01\u001b[0m00:01\u001b[0m\n",
            "\u001b[?25h  Preparing metadata (setup.py) ... \u001b[?25ldone\n",
            "\u001b[?25hRequirement already satisfied: requests in ./venv/lib/python3.10/site-packages (from unstructured) (2.32.3)\n",
            "Collecting python-oxmsg\n",
            "  Downloading python_oxmsg-0.0.1-py3-none-any.whl (31 kB)\n",
            "Requirement already satisfied: soupsieve>1.2 in ./venv/lib/python3.10/site-packages (from beautifulsoup4->unstructured) (2.6)\n",
            "Requirement already satisfied: marshmallow<4.0.0,>=3.18.0 in ./venv/lib/python3.10/site-packages (from dataclasses-json->unstructured) (3.22.0)\n",
            "Requirement already satisfied: typing-inspect<1,>=0.4.0 in ./venv/lib/python3.10/site-packages (from dataclasses-json->unstructured) (0.9.0)\n",
            "Requirement already satisfied: six in ./venv/lib/python3.10/site-packages (from langdetect->unstructured) (1.16.0)\n",
            "Collecting regex>=2021.8.3\n",
            "  Downloading regex-2024.9.11-cp310-cp310-manylinux_2_17_x86_64.manylinux2014_x86_64.whl (782 kB)\n",
            "\u001b[2K     \u001b[90m━━━━━━━━━━━━━━━━━━━━━━━━━━━━━━━━━━━━━\u001b[0m \u001b[32m782.7/782.7 KB\u001b[0m \u001b[31m645.9 kB/s\u001b[0m eta \u001b[36m0:00:00\u001b[0m00:01\u001b[0m00:01\u001b[0m\n",
            "\u001b[?25hCollecting joblib\n",
            "  Downloading joblib-1.4.2-py3-none-any.whl (301 kB)\n",
            "\u001b[2K     \u001b[90m━━━━━━━━━━━━━━━━━━━━━━━━━━━━━━━━━━━━━\u001b[0m \u001b[32m301.8/301.8 KB\u001b[0m \u001b[31m618.1 kB/s\u001b[0m eta \u001b[36m0:00:00\u001b[0m00:01\u001b[0m00:01\u001b[0m\n",
            "\u001b[?25hRequirement already satisfied: click in ./venv/lib/python3.10/site-packages (from nltk->unstructured) (8.1.7)\n",
            "Collecting olefile\n",
            "  Downloading olefile-0.47-py2.py3-none-any.whl (114 kB)\n",
            "\u001b[2K     \u001b[90m━━━━━━━━━━━━━━━━━━━━━━━━━━━━━━━━━━━━━\u001b[0m \u001b[32m114.6/114.6 KB\u001b[0m \u001b[31m611.3 kB/s\u001b[0m eta \u001b[36m0:00:00\u001b[0m00:01\u001b[0m00:01\u001b[0m\n",
            "\u001b[?25hRequirement already satisfied: certifi>=2017.4.17 in ./venv/lib/python3.10/site-packages (from requests->unstructured) (2024.8.30)\n",
            "Requirement already satisfied: charset-normalizer<4,>=2 in ./venv/lib/python3.10/site-packages (from requests->unstructured) (3.3.2)\n",
            "Requirement already satisfied: urllib3<3,>=1.21.1 in ./venv/lib/python3.10/site-packages (from requests->unstructured) (2.2.3)\n",
            "Requirement already satisfied: idna<4,>=2.5 in ./venv/lib/python3.10/site-packages (from requests->unstructured) (3.10)\n",
            "Requirement already satisfied: requests-toolbelt>=1.0.0 in ./venv/lib/python3.10/site-packages (from unstructured-client->unstructured) (1.0.0)\n",
            "Requirement already satisfied: nest-asyncio>=1.6.0 in ./venv/lib/python3.10/site-packages (from unstructured-client->unstructured) (1.6.0)\n",
            "Requirement already satisfied: pypdf>=4.0 in ./venv/lib/python3.10/site-packages (from unstructured-client->unstructured) (5.0.1)\n",
            "Requirement already satisfied: python-dateutil>=2.8.2 in ./venv/lib/python3.10/site-packages (from unstructured-client->unstructured) (2.9.0.post0)\n",
            "Collecting deepdiff>=6.0\n",
            "  Downloading deepdiff-8.0.1-py3-none-any.whl (82 kB)\n",
            "\u001b[2K     \u001b[90m━━━━━━━━━━━━━━━━━━━━━━━━━━━━━━━━━━━━━━━\u001b[0m \u001b[32m82.7/82.7 KB\u001b[0m \u001b[31m553.4 kB/s\u001b[0m eta \u001b[36m0:00:00\u001b[0m00:01\u001b[0m00:01\u001b[0m\n",
            "\u001b[?25hRequirement already satisfied: cryptography>=3.1 in ./venv/lib/python3.10/site-packages (from unstructured-client->unstructured) (43.0.1)\n",
            "Requirement already satisfied: httpx>=0.27.0 in ./venv/lib/python3.10/site-packages (from unstructured-client->unstructured) (0.27.2)\n",
            "Collecting jsonpath-python>=1.0.6\n",
            "  Downloading jsonpath_python-1.0.6-py3-none-any.whl (7.6 kB)\n",
            "Requirement already satisfied: mypy-extensions>=1.0.0 in ./venv/lib/python3.10/site-packages (from unstructured-client->unstructured) (1.0.0)\n",
            "Requirement already satisfied: packaging>=23.1 in ./venv/lib/python3.10/site-packages (from unstructured-client->unstructured) (24.1)\n",
            "Requirement already satisfied: cffi>=1.12 in ./venv/lib/python3.10/site-packages (from cryptography>=3.1->unstructured-client->unstructured) (1.17.1)\n",
            "Collecting orderly-set==5.2.2\n",
            "  Downloading orderly_set-5.2.2-py3-none-any.whl (11 kB)\n",
            "Requirement already satisfied: anyio in ./venv/lib/python3.10/site-packages (from httpx>=0.27.0->unstructured-client->unstructured) (4.6.0)\n",
            "Requirement already satisfied: sniffio in ./venv/lib/python3.10/site-packages (from httpx>=0.27.0->unstructured-client->unstructured) (1.3.1)\n",
            "Requirement already satisfied: httpcore==1.* in ./venv/lib/python3.10/site-packages (from httpx>=0.27.0->unstructured-client->unstructured) (1.0.6)\n",
            "Requirement already satisfied: h11<0.15,>=0.13 in ./venv/lib/python3.10/site-packages (from httpcore==1.*->httpx>=0.27.0->unstructured-client->unstructured) (0.14.0)\n",
            "Requirement already satisfied: pycparser in ./venv/lib/python3.10/site-packages (from cffi>=1.12->cryptography>=3.1->unstructured-client->unstructured) (2.22)\n",
            "Requirement already satisfied: exceptiongroup>=1.0.2 in ./venv/lib/python3.10/site-packages (from anyio->httpx>=0.27.0->unstructured-client->unstructured) (1.2.2)\n",
            "Using legacy 'setup.py install' for langdetect, since package 'wheel' is not installed.\n",
            "Installing collected packages: filetype, regex, rapidfuzz, python-magic, python-iso639, orderly-set, olefile, langdetect, jsonpath-python, joblib, emoji, backoff, python-oxmsg, nltk, deepdiff, unstructured-client, unstructured\n",
            "  Running setup.py install for langdetect ... \u001b[?25ldone\n",
            "\u001b[?25hSuccessfully installed backoff-2.2.1 deepdiff-8.0.1 emoji-2.14.0 filetype-1.2.0 joblib-1.4.2 jsonpath-python-1.0.6 langdetect-1.0.9 nltk-3.9.1 olefile-0.47 orderly-set-5.2.2 python-iso639-2024.4.27 python-magic-0.4.27 python-oxmsg-0.0.1 rapidfuzz-3.10.0 regex-2024.9.11 unstructured-0.15.13 unstructured-client-0.25.9\n"
          ]
        }
      ],
      "source": [
        "# Requirements\n",
        "!pip install langchain==0.2.5\n",
        "!pip install langchain_community==0.2.5\n",
        "!pip install faiss-gpu # replace with faiss-gpu if you are using GPU\n",
        "!pip install langchain-nvidia-ai-endpoints==0.1.2\n",
        "!pip install requests faiss-cpu pdfplumber spacy camelot-py pandas==2 numpy==1.26.4 beautifulsoup4 pymupdf\n",
        "!pip install lxml\n",
        "!pip install unstructured"
      ]
    },
    {
      "cell_type": "markdown",
      "id": "1b7a52a0-7e5e-4064-9665-cb947d600f84",
      "metadata": {
        "id": "1b7a52a0-7e5e-4064-9665-cb947d600f84"
      },
      "source": [
        "## Getting Started!"
      ]
    },
    {
      "cell_type": "markdown",
      "id": "04495732-c2db-4c97-91d0-96708814334d",
      "metadata": {
        "id": "04495732-c2db-4c97-91d0-96708814334d"
      },
      "source": [
        "To get started you need an `NVIDIA_API_KEY` to use the NVIDIA API Catalog:\n",
        "\n",
        "1) Create a free account with [NVIDIA](https://build.nvidia.com/explore/discover).\n",
        "2) Click on your model of choice.\n",
        "3) Under Input select the Python tab, and click **Get API Key** and then click **Generate Key**.\n",
        "4) Copy and save the generated key as NVIDIA_API_KEY. From there, you should have access to the endpoints."
      ]
    },
    {
      "cell_type": "markdown",
      "id": "c7fd4493",
      "metadata": {
        "id": "c7fd4493"
      },
      "source": [
        "Available NVIDIA api keys;\n",
        "\n",
        "1. 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\n",
        "2. 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"
      ]
    },
    {
      "cell_type": "code",
      "execution_count": 2,
      "id": "bbb51115-79f8-48c3-b3ee-d434916945f6",
      "metadata": {
        "colab": {
          "base_uri": "https://localhost:8080/"
        },
        "id": "bbb51115-79f8-48c3-b3ee-d434916945f6",
        "outputId": "e4d2f493-998c-42ab-8d7e-60c7cffcd318"
      },
      "outputs": [],
      "source": [
        "import getpass\n",
        "import os\n",
        "\n",
        "nvidia_api_key = getpass.getpass(\"Enter your NVIDIA API key: \")\n",
        "assert nvidia_api_key.startswith(\"nvapi-\"), f\"{nvidia_api_key[:5]}... is not a valid key\"\n",
        "os.environ[\"NVIDIA_API_KEY\"] = nvidia_api_key"
      ]
    },
    {
      "cell_type": "markdown",
      "id": "25656ab5-0046-4e27-be65-b3d3d547b4c6",
      "metadata": {
        "id": "25656ab5-0046-4e27-be65-b3d3d547b4c6"
      },
      "source": [
        "## RAG Example using LLM & Embedding"
      ]
    },
    {
      "cell_type": "markdown",
      "id": "54e86bc0-e9c5-4a2b-be0e-7fca0331e886",
      "metadata": {
        "id": "54e86bc0-e9c5-4a2b-be0e-7fca0331e886"
      },
      "source": [
        "### 1) Initialize the LLM\n",
        "\n",
        "The ChatNVIDIA class is part of LangChain's integration (langchain_nvidia_ai_endpoints) with NVIDIA NIM microservices.\n",
        "It allows access to NVIDIA NIM for chat applications, connecting to hosted or locally-deployed microservices.\n",
        "\n",
        "Here we will use **mixtral-8x7b-instruct-v0.1**"
      ]
    },
    {
      "cell_type": "code",
      "execution_count": 3,
      "id": "88c2fafe-5ded-4238-82de-f094232bf6fb",
      "metadata": {
        "colab": {
          "base_uri": "https://localhost:8080/"
        },
        "collapsed": true,
        "id": "88c2fafe-5ded-4238-82de-f094232bf6fb",
        "outputId": "fa6a7c4a-2ddc-4d73-f511-859bce8769f2"
      },
      "outputs": [],
      "source": [
        "from langchain_nvidia_ai_endpoints import ChatNVIDIA\n",
        "\n",
        "llm = ChatNVIDIA(model=\"mistralai/mixtral-8x7b-instruct-v0.1\", max_tokens=1024)\n",
        "\n",
        "# Can choose any model hosted at Nvidia API Catalog (Uncomment the below code to list the availabe models)\n",
        "# ChatNVIDIA.get_available_models()"
      ]
    },
    {
      "cell_type": "markdown",
      "id": "35cc87a6-2f83-4652-95f1-cf349db8bad6",
      "metadata": {
        "id": "35cc87a6-2f83-4652-95f1-cf349db8bad6"
      },
      "source": [
        "### 2) Intialize the embedding\n",
        "NVIDIAEmbeddings is a client to NVIDIA embeddings models that provides access to a NVIDIA NIM for embedding. It can connect to a hosted NIM or a local NIM using a base URL\n",
        "\n",
        "We selected **NV-Embed-QA** as the embedding"
      ]
    },
    {
      "cell_type": "code",
      "execution_count": 4,
      "id": "d88f7838-b9f9-4fc5-8779-84df6cb26017",
      "metadata": {
        "id": "d88f7838-b9f9-4fc5-8779-84df6cb26017"
      },
      "outputs": [],
      "source": [
        "from langchain_nvidia_ai_endpoints import NVIDIAEmbeddings\n",
        "\n",
        "embedder = NVIDIAEmbeddings(model=\"NV-Embed-QA\", truncate=\"END\")"
      ]
    },
    {
      "cell_type": "markdown",
      "id": "b9862f2e-5055-4fe4-818d-708091243d74",
      "metadata": {
        "id": "b9862f2e-5055-4fe4-818d-708091243d74"
      },
      "source": [
        "### 3) Obtain dataset\n",
        "I love taxes and work! Lets steal information about taxes and work!"
      ]
    },
    {
      "cell_type": "markdown",
      "id": "b64106ff",
      "metadata": {
        "id": "b64106ff"
      },
      "source": [
        "We can either;\n",
        "\n",
        "A) Walk through a webpage and find all sub-webpages and scrape the parent and children"
      ]
    },
    {
      "cell_type": "code",
      "execution_count": 30,
      "id": "8c07d429",
      "metadata": {
        "colab": {
          "base_uri": "https://localhost:8080/"
        },
        "collapsed": true,
        "id": "8c07d429",
        "outputId": "86e892d9-a219-4dd6-8a18-71daf5ee84e9"
      },
      "outputs": [
        {
          "name": "stdout",
          "output_type": "stream",
          "text": [
            "Current url: https://www.iras.gov.sg/schemes/disbursement-schemes/progressive-wage-credit-scheme\n"
          ]
        }
      ],
      "source": [
        "import requests\n",
        "import pandas as pd\n",
        "import urllib.parse  # To handle URL joining\n",
        "import time\n",
        "import os\n",
        "\n",
        "from io import StringIO\n",
        "from bs4 import BeautifulSoup, SoupStrainer\n",
        "from langchain_community.document_loaders import WebBaseLoader, DataFrameLoader, CSVLoader, UnstructuredTSVLoader\n",
        "\n",
        "# Max depth determines whether you wish to look into children of parents websites, else set to 0\n",
        "max_depth = 2\n",
        "base_domains = [\n",
        "    \"https://www.iras.gov.sg/taxes\",\n",
        "    \"https://www.iras.gov.sg/schemes\",\n",
        "    \"https://www.mom.gov.sg/passes-and-permits\",\n",
        "    \"https://www.mom.gov.sg/employment-practices\",\n",
        "    \"https://www.mom.gov.sg/workplace-safety-and-health\"\n",
        "]\n",
        "\n",
        "visited_urls = set()\n",
        "\n",
        "class DataHandler:\n",
        "    \"\"\"\n",
        "    Masterfully handles data scraping, preprocessing, and other data-related functionalities in this notebook.\n",
        "    \"\"\"\n",
        "\n",
        "    def __init__(self,\n",
        "                csv_path=\"./data/csv\"):\n",
        "        self.visited_urls = set() # classwide tracker to prevent repeated visits\n",
        "        self.webloaders = [] # tracks all urls that have been converted to langchain WebBaseLoaders.\n",
        "        self.tabular = [] # tracks all tabular data that has been discovered by scraper. Delivers a list of CSVLoader. Cowardly refusing to save to same list\n",
        "        self.csv_path = csv_path\n",
        "        if not os.path.exists(self.csv_path):\n",
        "            os.mkdir(self.csv_path)\n",
        "\n",
        "    def recursively_scrape(self, base_url, max_depth, depth=0):\n",
        "        \"\"\"\n",
        "        Wraps around scrape_website, so when ran will define a new scrape_website that knows that the true base_url is.\n",
        "        \"\"\"\n",
        "\n",
        "        def scrape_website(url, max_depth, depth):\n",
        "            \"\"\"\n",
        "            Recursively scrape a website by visiting links starting from url.\n",
        "            For text information, we render it to WebBaseLoader to handle later.\n",
        "            For any tabular data that we can extract, make it into pandas for later use.\n",
        "\n",
        "            Parameters:\n",
        "            - url: The URL to start scraping from.\n",
        "            - depth: The current recursion depth.\n",
        "            - max_depth: The maximum recursion depth to avoid infinite loops.\n",
        "\n",
        "            Returns:\n",
        "            - webloaders: list of langchain WebBaseLoader\n",
        "            - tables: list of tabular data we interpret seperately.\n",
        "            \"\"\"\n",
        "            if url in self.visited_urls or depth > max_depth:\n",
        "                return\n",
        "\n",
        "            try:\n",
        "                response = requests.get(url)\n",
        "                soupy_little_guy = BeautifulSoup(response.content, 'html.parser')\n",
        "                if response.status_code != 200:\n",
        "                    print(f\"Failed to retrieve {url}\")\n",
        "                    return\n",
        "            except Exception as e:\n",
        "                print(f\"Error accessing {url} with error: {e}\")\n",
        "                return\n",
        "\n",
        "            self.visited_urls.add(url)\n",
        "\n",
        "            print(\"Current url:\", url)\n",
        "            loader = WebBaseLoader(\n",
        "                web_paths=(url,),  # No URL fetching as we already have the HTML content\n",
        "                bs_kwargs={\"parse_only\": SoupStrainer(['main'])},\n",
        "            )\n",
        "            self.webloaders.append(loader.load())\n",
        "\n",
        "            # yoinks tables, annhilates superscripts (why do i care about citations???)\n",
        "            table_elements = soupy_little_guy.find_all(\"table\") \n",
        "            for table in table_elements:\n",
        "                tags = table.find_all('sup')\n",
        "                for tag in tags:\n",
        "                    tag.extract()\n",
        "\n",
        "                try:\n",
        "                    df = pd.read_html(StringIO(str(table)))[0]\n",
        "                    csv_path = os.path.join(self.csv_path, base_url.replace('/', '|') + \".csv\")\n",
        "                    df.to_csv( csv_path )\n",
        "                    # loader = UnstructuredTSVLoader(csv_path, mode='elements')\n",
        "                    # loader = CSVLoader(file_path=csv_path)\n",
        "                    self.tabular.append(df) # TODO: Find out if we ust use a more complex schema for tougher questions; e.g make the model reference certain tabular data GIVEN a certain prompt\n",
        "\n",
        "                except Exception as e:\n",
        "                    print(f\"Unable to convert tabular data from website {url} to pandas dataframe with error {e}, skipping!\")\n",
        "\n",
        "            # recurses\n",
        "            for link in soupy_little_guy.find_all('a', href=True):  # Find all links on the current page\n",
        "                relative_url = link['href']\n",
        "                absolute_url = urllib.parse.urljoin(url, relative_url)\n",
        "                if base_url in absolute_url:  # Avoids external sites\n",
        "                    scrape_website(absolute_url, max_depth, depth + 1)\n",
        "    \n",
        "            # saves the government\n",
        "            time.sleep(0.1)  \n",
        "\n",
        "        scrape_website(base_url, max_depth, depth)\n",
        "\n",
        "   \n",
        "datahandler = DataHandler()\n",
        "\n",
        "datahandler.recursively_scrape(\n",
        "    \"https://www.iras.gov.sg/schemes/disbursement-schemes/progressive-wage-credit-scheme\",\n",
        "    max_depth=0\n",
        ")\n",
        "# for base_domain in base_domains:\n",
        "#     scrape_website(base_domain, max_depth)\n",
        "\n",
        "# print(\"Number of pages visited:\", len(scraped_data))"
      ]
    },
    {
      "cell_type": "code",
      "execution_count": 31,
      "id": "e340c158",
      "metadata": {},
      "outputs": [
        {
          "name": "stdout",
          "output_type": "stream",
          "text": [
            "[Document(metadata={'source': './data/csv/https:||www.iras.gov.sg|schemes|disbursement-schemes|progressive-wage-credit-scheme.csv', 'file_directory': './data/csv', 'filename': 'https:||www.iras.gov.sg|schemes|disbursement-schemes|progressive-wage-credit-scheme.csv', 'languages': ['eng'], 'last_modified': '2024-10-07T08:30:56', 'text_as_html': '<table border=\"1\" class=\"dataframe\">\\n  <tbody>\\n    <tr>\\n      <td>,0,1</td>\\n    </tr>\\n    <tr>\\n      <td>0,Qualifying Year,Payout Period</td>\\n    </tr>\\n    <tr>\\n      <td>1,2022,Q1 2023</td>\\n    </tr>\\n    <tr>\\n      <td>2,2023,Q1 2024</td>\\n    </tr>\\n    <tr>\\n      <td>3,2024,Q1 2025</td>\\n    </tr>\\n    <tr>\\n      <td>4,2025,Q1 2026</td>\\n    </tr>\\n    <tr>\\n      <td>5,2026,Q1 2027</td>\\n    </tr>\\n  </tbody>\\n</table>', 'filetype': 'text/tsv', 'category': 'Table'}, page_content='\\n\\n\\n,0,1\\n\\n\\n0,Qualifying Year,Payout Period\\n\\n\\n1,2022,Q1 2023\\n\\n\\n2,2023,Q1 2024\\n\\n\\n3,2024,Q1 2025\\n\\n\\n4,2025,Q1 2026\\n\\n\\n5,2026,Q1 2027\\n\\n\\n')]\n"
          ]
        }
      ],
      "source": [
        "# print(datahandler.tabular[0].load())\n"
      ]
    },
    {
      "cell_type": "markdown",
      "id": "5a7e5e59",
      "metadata": {
        "id": "5a7e5e59"
      },
      "source": [
        "B) PDF extraction"
      ]
    },
    {
      "cell_type": "code",
      "execution_count": 7,
      "id": "b98038d2",
      "metadata": {
        "colab": {
          "base_uri": "https://localhost:8080/",
          "height": 211
        },
        "collapsed": true,
        "id": "b98038d2",
        "outputId": "9af6c308-d65a-4af8-b1eb-76b17b0296fb"
      },
      "outputs": [
        {
          "name": "stdout",
          "output_type": "stream",
          "text": [
            "Current pdf: verification-checklist-inspection-of-machines.pdf\n",
            "Number of pdfs used: 1\n"
          ]
        }
      ],
      "source": [
        "import os\n",
        "import fitz  # PyMuPDF\n",
        "import requests\n",
        "\n",
        "pdf_folder = r\"./sample pdfs\"\n",
        "pdf_data = []\n",
        "\n",
        "def extract_text_from_pdf(pdf_path):\n",
        "    document = fitz.open(pdf_path)\n",
        "\n",
        "    full_text = \"\"\n",
        "    for page_num in range(len(document)):\n",
        "        page = document.load_page(page_num)\n",
        "        full_text += page.get_text(\"text\")\n",
        "\n",
        "    return full_text\n",
        "\n",
        "for file in os.listdir(pdf_folder):\n",
        "    print(\"Current pdf:\", file)\n",
        "    pdf_path = os.path.join(pdf_folder, file)\n",
        "    pdf_data.append(extract_text_from_pdf(pdf_path))\n",
        "\n",
        "print(\"Number of pdfs used:\", len(pdf_data))"
      ]
    },
    {
      "cell_type": "code",
      "execution_count": 24,
      "id": "5925b042",
      "metadata": {},
      "outputs": [
        {
          "name": "stdout",
          "output_type": "stream",
          "text": [
            "page_content='\n",
            "\n",
            "\n",
            "\n",
            "\n",
            "\n",
            "Home\n",
            "Schemes\n",
            "Government Schemes\n",
            "Progressive Wage Credit Scheme (PWCS)\n",
            "\n",
            "\n",
            "\n",
            "\n",
            "\n",
            "\n",
            "\n",
            "\n",
            "\n",
            "Government Schemes\n",
            "\n",
            "\n",
            "\n",
            "\n",
            "Enterprise Innovation Scheme (EIS)\n",
            "\n",
            "\n",
            "Refundable Investment Credit (RIC)\n",
            "\n",
            "\n",
            "Jobs Growth Incentive (JGI)\n",
            "\n",
            "\n",
            "Progressive Wage Credit Scheme (PWCS)\n",
            "Next level\n",
            "\n",
            "\n",
            "Back\n",
            "\n",
            "\n",
            "PWCS Glossary\n",
            "\n",
            "\n",
            "\n",
            "\n",
            "Uplifting Employment Credit (UEC)\n",
            "\n",
            "\n",
            "Senior Employment Credit (SEC), Enabling Employment Credit (EEC) and CPF Transition Offset (CTO)\n",
            "\n",
            "\n",
            "Self-review for Eligibility of Payouts\n",
            "\n",
            "\n",
            "Jobs Support Scheme (JSS)\n",
            "Next level\n",
            "\n",
            "\n",
            "Back\n",
            "\n",
            "\n",
            "Specific Industries in Tiers and SSIC Codes\n",
            "\n",
            "\n",
            "\n",
            "\n",
            "Wage Credit Scheme (WCS)\n",
            "Next level\n",
            "\n",
            "\n",
            "Back\n",
            "\n",
            "\n",
            "WCS Glossary\n",
            "\n",
            "\n",
            "\n",
            "\n",
            "SkillsFuture Enterprise Credit\n",
            "\n",
            "\n",
            "MediShield Life (MSHL)\n",
            "\n",
            "\n",
            "\n",
            "\n",
            "\n",
            "Progressive Wage Credit Scheme (PWCS)\n",
            "\n",
            "Share:\n",
            "\n",
            "\n",
            "\n",
            "Facebook\n",
            "\n",
            "\n",
            "\n",
            "\n",
            "\n",
            "X\n",
            "\n",
            "\n",
            "\n",
            "\n",
            "\n",
            "LinkedIn\n",
            "\n",
            "\n",
            "\n",
            "\n",
            "\n",
            "Telegram\n",
            "\n",
            "\n",
            "\n",
            "\n",
            "\n",
            "Whatsapp\n",
            "\n",
            "\n",
            "\n",
            "\n",
            "\n",
            "Email\n",
            "\n",
            "\n",
            "\n",
            "\n",
            "\n",
            "\n",
            "\n",
            "\n",
            "Announcement:March 2024 PayoutIf your company has an existing GIRO arrangement as at 16 Feb 2024 with IRAS or is registered for PayNow Corporate as at 26 Mar 2024,\n",
            " you will receive a payout titled “Progressive Wage Credit Scheme” (GIRO) or “GOVT” (PayNow Corporate) in your bank account from 28 Mar 2024. There would not be any PWCS payout\n",
            "        made via cheques.Selected companies will receive a letter from IRAS to submit supporting documents for review. If you are selected for review, your Mar 2024 payouts will be withheld and you may be required to provide a declaration or documents, in order to substantiate\n",
            "        your eligibility for PWCS payout. The payout will only be disbursed after the completion of the review. \n",
            "\n",
            "\n",
            "\n",
            "The Progressive Wage Credit Scheme (PWCS) was introduced in Budget 2022 to provide transitional wage support for employers to:Adjust to upcoming mandatory wage increases for lower-wage workers covered by the Progressive Wage and Local Qualifying Salary requirements; andVoluntarily raise wages of lower-wage workers.The Government will co-fund wage increases of eligible resident employees from 2022 to 2026. Employers do not need to apply for the PWCS and can expect to receive the payout for the respective year by the first quarter of the following year.PWCS EnhancementsAs announced in Budget 2024, the PWCS scheme will be enhanced:1)    Increase in Government’s 2024 PWCS Co-Funding SupportThe PWCS co-funding support will be raised for wage increases given in the qualifying year 2024 from 30% to 50% for the first tier, and 15% to 30% for the second tier (see Table 1). The enhanced 2024 co-funding support will also apply to wage increases given in qualifying year 2023 and are sustained in 2024.2)    Increase in Wage Ceiling for PWCS Co-Funding from 2025 OnwardsThe gross monthly wage ceiling for PWCS co-funding will be increased from $2,500 to $3,000 in qualifying years 2025 and 2026 (see Table 1).3)     Introduction of Wage Cut-Off for PWCS Eligibility from Qualifying Year 2024 OnwardsThere will be a wage cut-off at $4,000 from Qualifying Year 2024 onwards (i.e. PWCS support is not applicable to employees whose average monthly wage exceeds $4,000 post-wage increase). This keeps PWCS targeted at supporting the wage growth of lower-wage employees.\n",
            "\n",
            "\n",
            "On this page: \n",
            "\n",
            "\n",
            "\n",
            "Design of PWCS\n",
            "\n",
            "\n",
            "Qualifying Conditons\n",
            "\n",
            "\n",
            "Computation of Progressive Wage Credit\n",
            "\n",
            "\n",
            "Illustrations of PWCS\n",
            "\n",
            "\n",
            "Receiving PWCS\n",
            "\n",
            "\n",
            "Request for a Breakdown of PWCS\n",
            "\n",
            "\n",
            "Appeal for PWCS\n",
            "\n",
            "\n",
            "Decline of PWCS payout\n",
            "\n",
            "\n",
            "Abuse of PWCS\n",
            "\n",
            "\n",
            "Contact IRAS\n",
            "\n",
            "\n",
            "FAQs\n",
            "\n",
            "\n",
            "\n",
            "\n",
            "\n",
            "Design of PWCS\n",
            "    \n",
            "\n",
            "The PWCS has the following design:a) Singapore Citizen and Permanent Resident employees are eligible.b) Support for wage increases up to $3,000 gross monthly wage ceiling will run from 2022 to 2026.1 The Government will provide support for wage increases at the stipulated co-funding levels from 2022 to 2026 (see Table 1).c) Average gross monthly wage increase must be at least $100 in each qualifying year to be eligible for PWCS.d) Eligible wage increases in each qualifying year will be co-funded for two years. For example, a 2023 wage increase will be supported in qualifying year 2023, and also in 2024 if sustained.e) Employees’ average wage must be $4,000 or lower to be eligible for PWCS. A wage cut-off for PWCS eligibility will apply from 2024 onwards. Employees whose average monthly wage exceeds $4,000 post-wage increase will not be eligible for PWCS.1 As announced at Budget 2024, the gross monthly wage ceiling for PWCS co-funding will be increased from $2,500 to $3,000 in qualifying years 2025 and 2026. This means that PWCS will continue to support wage increases up to $3,000 in 2025-2026. (Under initial parameters, support for wage increases above $2,500 gross monthly wage and up to $3,000 ceiling would run only from 2022 to 2024.)\n",
            "\n",
            "\n",
            "Qualifying ConditionsIs my firm eligible?Your firm will automatically qualify if you give wage increases to resident1 employees who:1.  Received CPF contributions from a single employer for at least 3 calendar months* in the preceding year2,2. Have been on your firm’s payroll for at least 3 calendar months in the qualifying year3 (i.e. you must have paid your employee CPF contributions for at least 3 calendar months* in qualifying year), and3.  Have an average gross monthly wage increase of at least $100 in the qualifying year* The 3 calendar months of CPF contributions in the year need not be consecutive. 1Singapore Citizen and Permanent Resident2Preceding year refers to the year before the qualifying year.3Qualifying year refers to the year for which the wage credit is computed, based on the wage increases given in that year. The Scheme has 5 qualifying years, i.e. 2022, 2023, 2024, 2025, and 2026.Local government agencies, businesses not registered in Singapore, foreign high commissions, embassies, trade offices and international organisations do not qualify for PWCS.Wages paid to business owners i.e. sole proprietors of sole proprietorships, or partners of a partnership, or both a shareholder and director of a company, will not be eligible for PWCS.See the full employer exclusion list.\n",
            "\n",
            "\n",
            "Computation of Progressive Wage CreditFor each qualifying year, the Progressive Wage Credit for each eligible employee will be computed as follows:Table 1: PWCS Co-Funding Levels for Wage IncreasesQualifying YearFirst TierGross Monthly Wage Ceiling ≤ $2,500Second TierGross Monthly Wage Ceiling > $2,500 and ≤ $3,000202275%145%1202375%245%2202450%330%3 Single Tier Gross Month Wage Ceiling ≤ $3,0004202530%202615%For the purposes of the PWCS, Gross Monthly Wage = Total wages (basic salary and additional wages such as overtime pay and bonuses, but excluding employer CPF contributions) paid by the employer to the employee in a calendar year / Number of months in which CPF\n",
            "    contributions were made.Qualifying Wage Increase refers to the amount of wage increase given to an employee that qualifies for co-funding in any qualifying year. It consists of two components: The gross monthly wage increase given in qualifying year, if it is at least $100, and up to the relevant wage ceiling; andThe gross monthly wage increase given in the preceding year, if it is sustained51As announced on 21 Jun 2022, the co-funding support in 2022 has been increased from 50% to 75% for the first tier, and from 30% to 45% for the second tier.2As announced at Budget 2023, the co-funding support in 2023 has been increased from 50% to 75% for the first tier, and from 30% to 45% for the second tier.3As announced at Budget 2024, the co-funding support in 2024 has been increased from 30% to 50% for the first tier, and from 15% to 30% for the second tier.4As announced at Budget 2024, the gross monthly wage ceiling for PWCS co-funding will be increased from $2,500 to $3,000 in qualifying years 2025 and 2026.5For qualifying year 2022, there is no sustained gross monthly wage increase in preceding year, as 2022 is the first year of the Scheme.\n",
            "\n",
            "\n",
            "Illustrations of PWCS\n",
            "\n",
            "\n",
            "\n",
            "\n",
            "            Example 1: Employee who earns $1,800 per month in 2021, and experiences average gross monthly wage increase of $100 in January of each year\n",
            "        \n",
            "\n",
            "\n",
            "\n",
            "Amount of PWCS Payout received in total for this employee: $4,980  Note:[1] As PWCS is effective from 2022, wage increases in 2021 (i.e. increases in 2021 from the 2020 wage) will not be supported by PWCS.[2] Calculation of total PWCS payout for the year assumes that employer makes 12 months of CPF contributions\n",
            "for each qualifying year.\n",
            " \n",
            "\n",
            "\n",
            "\n",
            "\n",
            "\n",
            "\n",
            "            Example 2: Employee who earns $2,200 per month in 2021, and has gross monthly wage increase of $200 in January of each year\n",
            "        \n",
            "\n",
            "\n",
            "\n",
            "Amount of PWCS Payout received in total for this employee: $8,520Note:[1] As PWCS is effective from 2022, wage increases in 2021 (i.e. increases in 2021 from the 2020 wage) will not be supported by PWCS.[2] Calculation\n",
            "of total PWCS payout for the year assumes that employer makes 12 months of CPF contributions for each qualifying year.\n",
            " \n",
            "\n",
            "\n",
            "\n",
            "\n",
            "\n",
            "\n",
            "            Example 3: Employee who earns $4,000 per month in 2021, and has gross monthly wage increase of $100 in January of each year\n",
            "        \n",
            "\n",
            "\n",
            "\n",
            "PWCS will not co-fund the wage increases of this employee, as the employee is already earning above the wage ceiling of $3,000.\n",
            "\n",
            "\n",
            "\n",
            "\n",
            "\n",
            "\n",
            "            Example 4: Employee who earns $2,800 per month in 2023, and has gross monthly wage increase of $1,250 in January of each year\n",
            "        \n",
            "\n",
            "\n",
            "\n",
            "Although the employee’s monthly wage pre-increase is below the wage ceiling of $3,000, PWCS will not co-fund the wage increases of this employee, as the employee’s monthly wage post-increase is above the wage cut-off for PWCS eligibility of $4,000.\n",
            "\n",
            "\n",
            "\n",
            "\n",
            "Receiving PWCSEmployers do not need to apply for the payouts. For each qualifying year, IRAS will notify eligible employers of the PWCS payout payable to them and disburse the payout by Q1 of the subsequent year. The first payout period for PWCS will be in Q1 2023.Qualifying YearPayout Period2022Q1 20232023Q1 20242024Q1 20252025Q1 20262026Q1 2027How do employers receive the payout?Payouts will automatically be credited to employers' GIRO bank account for Income Tax/GST. For those without GIRO accounts, the payout will be credited to their bank account that is registered with PayNow Corporate1. Employers who are not already on these direct crediting modes will have to sign up for these modes to receive their payouts.1Organisations can sign up for PayNow Corporate by linking their organisation’s UEN (without suffix) [e.g., ROC (2019XXXXXA), ROB (531XXXXXA), UEN (T19LLXXXXA)] to their bank account via internet banking. The nine banks participating in PayNow Corporate are United Overseas Bank, DBS Bank/POSB, OCBC Bank, Citibank, HSBC, Maybank, Standard Chartered Bank, Bank of China and Industrial and Commercial Bank of China Limited. For assistance, please approach these banks. \n",
            "\n",
            "\n",
            "Offset of Government Scheme Overpayments against PWCS PayoutsBusinesses with overpayments from Government Schemes such as Jobs Growth Incentive (JGI) might have these offset against PWCS payouts.  Please write in to us if you wish to separately arrange for payment to return the outstanding amounts.\n",
            "\n",
            "\n",
            "How to Request for a Breakdown of Progressive Wage Credit?If you are an employer, you can request for a breakdown of the total Progressive Wage Credit by employee in the year of payout. You can submit an online request via this e-Service. Please note that each qualifying employer is allowed to submit one breakdown request for each qualifying payout.Receiving the RecordsIf the number of employee records does not exceed 500, they will be mailed to the business's registered address by ordinary mail. \n",
            "If the number of employee records exceeds 500, they will be provided via myTaxMail at myTax Portal within ten working days from the date of receipt of the breakdown request.Contents of the RecordsThe records will provide you with the breakdown of Progressive Wage Credit for your employees. If you have new eligible employees, only their names will be provided, as disclosure of their individual Wage Credits may reveal the wages from their previous employment. If you wish to obtain the individual Progressive Wage Credits of your new employees, they will need to sign a Consent Form (PDF, 186KB), and you will need to complete and submit a  Declaration Form within a month from the date of request.Please note that we will not be able to process the declaration form if you have only one qualifying new employee.\n",
            "\n",
            "\n",
            "Can employers appeal to qualify for the schemes? For PWCS, employers have up to 2 months from the month of payout to lodge an appeal. For instance, if the payout is in the month of March, employers must complete the PWCS appeal form by\n",
            "31 May. Late appeals i.e. those received after the 2-month window will not be considered.\n",
            "\n",
            "\n",
            "\n",
            "How do I decline PWCS payout?If you wish to be excluded from current and all future PWCS payouts, please sign up using the \n",
            "Decline PWCS form.Returning PWCS payoutsTo return a PWCS payout that you have received, please do so via internet banking fund transfer. IRAS’ bank account details are as follows:Payee:                   IRAS - PWCS TRUST FUNDAccount Type:    Current AccountAccount No.:       072-847500-5DBS Swift Code: DBSSSGSGTo facilitate the processing of your return, please indicate your business name and purpose (e.g. ABC Pte. Ltd. Decline PWCS) under the “Beneficiary Reference / Purpose of Payment / Remittance Information / Payment Details” field.\n",
            "\n",
            "\n",
            "Abuse of PWCSHow will the Government detect abuse of PWCS?The Government takes a serious view on any attempt to abuse the scheme. Offenders may have their PWCS payouts denied and can be charged under Section 420 of the Penal Code, where they may face up to 10 years of imprisonment and a fine. To detect possible\n",
            "    abuses, the Government has instituted a robust anti-gaming framework leveraging data from multiple sources to identify risks. When ascertaining whether an arrangement is abusive, the Government will consider all relevant facts and circumstances and\n",
            "    conduct in-depth verifications where necessary.IRAS will only release the PWCS payouts after we are satisfied with the outcome of the review.Some unacceptable practices include but are not limited to:Artificially splitting the wages of employees across multiple related business entitiesEmployers should only make mandatory CPF contributions to employees for the business entities they are working for, instead of artificially splitting the wages of its employees across related business entities to circumvent the PWCS wage ceiling.Making purported mandatory CPF contributions for non-genuine employeesThis is a fraudulent arrangement. Employers should not make any mandatory CPF contributions to individuals who are not their genuine employees. Individuals are reminded that providing their personal information to facilitate such schemes\n",
            "            may make them accomplices to the fraud, resulting in criminal liability for the individuals. Individuals should not give out their personal information such as NRIC, Singpass or bank account details in exchange for CPF contributions and/or\n",
            "            money.\n",
            "        Making mandatory CPF contributions for purported wages paid without expectation of any work to be done (e.g. solely to fulfil regulatory requirements or quotas, or family members who are not involved in the business)Employers should only make mandatory CPF contributions to employees for wages paid for work performed as part of a contract of service.Increasing purported mandatory CPF contributions for employees without any actual wage increaseThe prevailing CPF contribution rates can be found on the CPF website.Inflating purported mandatory CPF contributions and deducting these excess contributions from employees’ wages in cashThis is a fraudulent arrangement. Employers should only make the correct amount of mandatory CPF contributions based on the actual wages paid to their employees.Making purported mandatory CPF contributions for inflated wages that are not commensurate with the volume or nature of work of the employeesEmployers should only make mandatory CPF contributions to employees for wages paid that are commensurate with the volume or nature of work of the employees, instead of making purported mandatory CPF contributions based on inflated wages\n",
            "            to increase the amount of the PWCS subsidy.Continuing purported mandatory CPF contributions for employees who have been retrenched or put on no-pay leaveEmployers should stop making mandatory CPF contributions for employees who have been retrenched or are on no-pay leave. However, employers can continue to make voluntary CPF contributions to the CPF accounts of employees on no-pay leave by applying\n",
            "            for a separate CPF submission number with CPF Board. (For more details on making voluntary CPF contributions for employees, please find out more at the CPF Board website).Maintaining purported mandatory CPF contribution amounts based on past wages for employees who have suffered wage cutsCPF mandatory contributions are based on employees’ wages, age and citizenship. A wage cut on the employees’ part should see a corresponding decrease in the mandatory CPF contributions. However, employers can continue to make voluntary\n",
            "            CPF contributions to the CPF accounts of employees whose wages have been cut by applying for a separate CPF submission number with CPF Board. (For more details on making voluntary CPF contributions for employees, please find out more at the\n",
            "            CPF Board website).Businesses or individuals who wish to report to IRAS any malpractices or potential abuses of the PWCS may do so via email to  [email protected] or online at  go.gov.sg/schemereport. IRAS will ensure that the identities of informants are kept strictly confidential.\n",
            "\n",
            "\n",
            "Contact IRASIf there are queries that have not been addressed on this site, please send us an enquiry via go.gov.sg/askpwcs. You can also chat with us online or call us at 6351 3390 between 8 am and 5 pm from Monday to Friday.\n",
            "\n",
            "\n",
            "FAQs\n",
            "\n",
            "\n",
            "A. General Questions on the Scheme\n",
            "\n",
            "\n",
            "\n",
            "\n",
            "            1.\tWhat is the Progressive Wage Credit Scheme (PWCS) and its objectives?\n",
            "        \n",
            "\n",
            "\n",
            "\n",
            "The PWCS is intended to provide transitional support to employers to:a.    Adjust to upcoming mandatory wage increases for lower-wage workers covered by the Progressive Wage and Local Qualifying Salary requirements; andb.    Voluntarily raise wages of other lower-wage workers.\n",
            "\n",
            "\n",
            "\n",
            "\n",
            "\n",
            "\n",
            "            2.\tWho will qualify for the Progressive Wage Credit Scheme?\n",
            "        \n",
            "\n",
            "\n",
            "\n",
            "Employers will automatically qualify if they are not on the employer exclusion list and wage increases are given to resident employees who:1.    Received CPF contributions from a single employer for at least 3 calendar months* in the preceding year,2.    Have been on the employer’s payroll for at least 3 calendar months in the qualifying year (i.e. employer must have paid CPF contributions to employees for at least 3 calendar months* in qualifying year),3.    Have an average gross monthly wage increase of at least $100 in the qualifying year, and4.    Have wages below the stipulated wage ceilings for PWCS First Tier or Second Tier; and5.    Have an average monthly wage of no more than $4,000 after the wage increase* The 3 calendar months of CPF contributions in the year need not be consecutive.\n",
            "\n",
            "\n",
            "\n",
            "\n",
            "\n",
            "\n",
            "            3.  How is the Progressive Wage Credit Scheme different from the Wage Credit Scheme (WCS)?\n",
            "        \n",
            "\n",
            "\n",
            "\n",
            "The PWCS is a separate scheme from the WCS. The WCS was a transitional scheme intended to support business embarking on transformation efforts and encourage sharing of productivity gains with workers. The PWCS is intended to provide transitional support to employers to:a.    Adjust to upcoming mandatory wage increases for lower-wage workers covered by the Progressive Wage and Local Qualifying Salary requirements; andb.    Voluntarily raise wages of other lower-wage workers.The WCS will cease after the last payout for 2021 qualifying wage increases in March 2022.\n",
            "\n",
            "\n",
            "\n",
            "\n",
            "\n",
            "\n",
            "            4.\tHow does the Government verify the wages that I pay my employees?\n",
            "        \n",
            "\n",
            "\n",
            "\n",
            "The wages are verified based on the mandatory CPF contributions that the employer makes for the employee. Employers should not make any mandatory CPF contributions to individuals who are not their genuine employees.\n",
            "\n",
            "\n",
            "\n",
            "\n",
            "\n",
            "\n",
            "            5.\tBesides supporting employer in complying with the mandatory Progressive Wages and Local Qualifying Salary, why does the PWCS support voluntary wage increases as well?\n",
            "        \n",
            "\n",
            "\n",
            "\n",
            "The PWCS is intended to provide transitional support to employers to:a.    Adjust to upcoming mandatory wage increases for lower-wage workers covered by the Progressive Wage and Local Qualifying Salary requirements; andb.    Voluntarily raise wages of other lower-wage workers.This will help us to uplift all lower-wage workers, regardless of whether they are covered by Progressive Wages. Hence, the PWCS also supports voluntary wage increases.\n",
            "\n",
            "\n",
            "\n",
            "\n",
            "\n",
            "\n",
            "            6. Why does the PWCS have two tiers in 2022-2024?\n",
            "        \n",
            "\n",
            "\n",
            "\n",
            "While the PWCS is intended to support wage increases for lower-wage workers, we recognise that firms may need to adjust the wages of other workers earning just above lower-wage workers. Furthermore, economic conditions remain uncertain in the near term. Hence, higher levels of support are provided for wage increases given to workers earning up to $2,500 in the first three years of the scheme.\n",
            "\n",
            "\n",
            "\n",
            "\n",
            "\n",
            "\n",
            "            7.\tWhy is the minimum average gross monthly wage increase eligible for PWCS support set at $100?\n",
            "        \n",
            "\n",
            "\n",
            "\n",
            "The minimum monthly wage increase of $100 is intended to encourage employers to provide meaningful wage increases to lower-wage workers, so as to make greater strides in our effort to uplift lower-wage workers and narrow income inequality.\n",
            "\n",
            "\n",
            "\n",
            "\n",
            "\n",
            "\n",
            "            8.\tWhy is the co-funding level reduced from 2024 onwards?\n",
            "        \n",
            "\n",
            "\n",
            "\n",
            "PWCS is a transitional scheme. More support is provided in the first two years (2022-23) to help employers adjust in the short-term. Employers should use the duration of support to accelerate the structural transformation of their business processes and improve firm-level productivity. This would be critical in ensuring that the wage increases remain sustainable in the long term. \n",
            "\n",
            "\n",
            "\n",
            "\n",
            "B. Computation\n",
            "\n",
            "\n",
            "\n",
            "\n",
            "            1. Will employers receive PWCS support for wage increases before the new mandatory Progressive Wage Model and Local Qualifying Salary requirements start from Sep 2022?\n",
            "        \n",
            "\n",
            "\n",
            "\n",
            "PWCS support is given for any wage increases provided to lower-wage workers, and not tied specifically to the Progressive Wage Model and Local Qualifying Salary requirements. Hence, employers can raise the wages of their employees even before the new mandatory Progressive Wage Model and Local Qualifying Salary requirements begin on Sep 2022, and they will receive PWCS support as long as eligibility criteria are met.\n",
            "\n",
            "\n",
            "\n",
            "\n",
            "\n",
            "\n",
            "            2. If my employeeʼs gross monthly wage was reduced in 2021 but subsequently increased in 2022, would the increase be eligible for PWCS support in qualifying year 2022?\n",
            "        \n",
            "\n",
            "\n",
            "\n",
            "Yes, the increase in the gross monthly wage from 2021 to 2022 would be eligible for PWCS support as along as the increase was at least $100 and all other eligibility criteria are met.\n",
            "\n",
            "\n",
            "\n",
            "\n",
            "\n",
            "\n",
            "            3. If my employee worked for me for four months in 2022, how is his gross monthly wage and the PWCS payout computed?\n",
            "        \n",
            "\n",
            "\n",
            "\n",
            "His average gross monthly wage will be calculated from the total wages that you paid him in 2022 divided by 4, which is the number of calendar months in which his CPF contributions were made by you in 2022. If there is an increase of at least $100 in\n",
            "    the average gross monthly wage in 2022 over his average gross monthly wage in 2021, you will receive the PWCS payout for the qualifying year 2022 for the 4 months.\n",
            "The PWCS payout will be computed based on multiplying the co-funding level by the qualifying wage increase and the 4 months (see Computation of Progressive Wage Credit for details).\n",
            "\n",
            "\n",
            "\n",
            "\n",
            "\n",
            "\n",
            "            4. My employee joined the company in Nov 2021 but left in Feb 2022. Before leaving the company, he received a monthly wage increase of more than $100 in Jan 2022. As he had been employed by the company for a total of four months, will the wage increase be eligible for PWCS support in qualifying year 2022?\n",
            "        \n",
            "\n",
            "\n",
            "\n",
            "No, the wage increase will not be eligible for PWCS support in qualifying year as the employee was employed by the company for less than 3 months in the qualifying year i.e. 2022 in this case (and would therefore have not received 3 months of CPF contributions from the company).\n",
            "\n",
            "\n",
            "\n",
            "\n",
            "\n",
            "\n",
            "            5. My employee receives a gross monthly wage increase of $200, from $2,950 in 2022 to $3,150 in 2023. Would this increase qualify for PWCS support?\n",
            "        \n",
            "\n",
            "\n",
            "\n",
            "The increase fulfils the criteria of having a gross monthly wage increase of at least $100. However, because part of the increase leads to the gross monthly wage exceeding the PWCS Second Tier ceiling of $3,000, only the part of the increase up to the ceiling (i.e. the first $50) qualifies for PWCS support.\n",
            "\n",
            "\n",
            "\n",
            "\n",
            "\n",
            "\n",
            "            6. My employee receives a gross monthly wage increase of $100 that straddles the wage cut-off between the PWCS First and Second Tier, from $2,450 in 2022 to $2,550 in 2023. Would this wage increase qualify for PWCS support?\n",
            "        \n",
            "\n",
            "\n",
            "\n",
            "Yes, the increase fulfils the criteria of having a gross monthly wage increase of at least $100. However, while the entire wage increase will qualify for PWCS support, the increase of $50, which is up to the $2,500 ceiling, will be supported at the First Tier co-funding level, while the remaining $50 will be supported at the Second Tier co-funding level.\n",
            "\n",
            "\n",
            "\n",
            "\n",
            "\n",
            "\n",
            "            7. I recruited a new employee from Feb 2022 who had worked with two different employers in 2021 (each for more than three months). How would the PWCS support be computed assuming his average gross monthly wage in 2022 is $2,500 and the average gross monthly wages in 2021 was $2,000 under employer A and $2,100 under employer B?\n",
            "        \n",
            "\n",
            "\n",
            "\n",
            "The highest of the employee's previous average gross monthly wages, which in this case is $2,100 under employer B, will be used to compute the PWCS support.PWCS support for qualifying year 2022 = 75% of ($2,500 - $2,100) X 11 months* = $3,300*Assuming the employees works with the employer for 11 months in 2022\n",
            "\n",
            "\n",
            "\n",
            "\n",
            "C. Eligibility Criteria\n",
            "\n",
            "\n",
            "\n",
            "\n",
            "            1. Are part time and contract workers covered by the Scheme?\n",
            "        \n",
            "\n",
            "\n",
            "\n",
            "Yes, all part-time, hourly rated, contract and full-time employees can be eligible for the Scheme, as long as they are paid CPF contributions by their employer and all other eligibility criteria are met.\n",
            "\n",
            "\n",
            "\n",
            "\n",
            "\n",
            "\n",
            "            2. Will employers qualify for the Progressive Wage Credit for new hires?\n",
            "        \n",
            "\n",
            "\n",
            "\n",
            "When you hire a new employee, you will benefit from the Scheme in the year of hire if the new employee had worked for at least three calendar months with any previous employer in the previous year, and you pay him a gross monthly wage that is at least $100 more than his previous employer in the previous year.This wage increase will be computed automatically based on the employee's CPF contribution records, and Wage Credit will be paid out to you if all conditions of the Scheme are met.\n",
            "\n",
            "\n",
            "\n",
            "\n",
            "\n",
            "\n",
            "            3. Will employers qualify for the Progressive Wage Credit for new entrants into the workforce?\n",
            "        \n",
            "\n",
            "\n",
            "\n",
            "The PWCS is purposed to support wage increases of lower-wage workers. As new entrants into the workforce do not have an existing wage (i.e. they have not received CPF contributions from a single employer for at least 3 calendar months in the preceding year), they are considered not to have received a wage increase. The wage paid by employers to these new entrants will therefore not qualify for PWCS.\n",
            "\n",
            "\n",
            "\n",
            "\n",
            "\n",
            "\n",
            "            4. If my employee worked for another firm in the previous year, and received a wage increase when joining my firm in the current qualifying year, will the employee’s wage increase qualify for PWCS?\n",
            "        \n",
            "\n",
            "\n",
            "\n",
            "Yes, even though the employee was working in another firm in the preceding year, the employee’s wage increase in the current qualifying year would qualify for PWCS as long as all other eligibility criteria are met.The qualifying wage increase will be computed with reference to the employee’s gross monthly wage for the preceding year, which would have been earned at the previous firm.\n",
            "\n",
            "\n",
            "\n",
            "\n",
            "\n",
            "\n",
            "            5. Why are wage increases given to Permanent Residents eligible for PWCS?\n",
            "        \n",
            "\n",
            "\n",
            "\n",
            "The mandatory Progressive Wage and Local Qualifying Salary requirements are applicable to all local workers, including permanent residents. The PWCS will help employers adjust to these mandatory requirements.\n",
            "\n",
            "\n",
            "\n",
            "\n",
            "D. Others\n",
            "\n",
            "\n",
            "\n",
            "\n",
            "            1. Do I get taxed on the payout?\n",
            "        \n",
            "\n",
            "\n",
            "\n",
            "The Progressive Wage Credit is a government grant that co-funds wage increases. Hence, it is considered a revenue that is taxable in the hands of the employers. The payouts will be taxed in the relevant Year of Assessment corresponding to the year you received the payouts. Individuals (including sole proprietors) and partnerships are not required to declare the Wage Credit payout received in their income tax returns (Form B/B1 or Form P) as this will be automatically included by IRAS in their tax assessments for the relevant YA.Companies are however, required to declare the Wage Credit payout received in their income tax return (Form C/Form C-S) for the relevant YA.\n",
            "\n",
            "\n",
            "\n",
            "\n",
            "\n",
            "Related Content\n",
            "\n",
            "\n",
            "\n",
            "\n",
            "\n",
            "\n",
            "Useful Links\n",
            "\n",
            "\n",
            "E-service for Eligibility Checker and Breakdown\n",
            "\n",
            "\n",
            "\n",
            "\n",
            "\n",
            "\n",
            "\n",
            "Documents\n",
            "\n",
            "PWCS Calculator (XLSX, 676KB)\n",
            "\n",
            "\n",
            "\n",
            "\n",
            "\n",
            "Documents\n",
            "\n",
            "PWCS New Employees Consent Form (PDF, 487KB)\n",
            "\n",
            "\n",
            "\n",
            "\n",
            "\n",
            "\n",
            "\n",
            " ' metadata={'source': 'https://www.iras.gov.sg/schemes/disbursement-schemes/progressive-wage-credit-scheme'}\n"
          ]
        }
      ],
      "source": [
        "# print(scraped_data[0])\n",
        "# [print(scraped_data.index(doc)) for doc in scraped_data if \"https://www.iras.gov.sg/schemes/disbursement-schemes/progressive-wage-credit-scheme\" in doc[0].metadata['source']]\n",
        "print(scraped_data[84][0])"
      ]
    },
    {
      "cell_type": "markdown",
      "id": "851b16b3-43ac-4269-9f37-05a33efe24fb",
      "metadata": {
        "id": "851b16b3-43ac-4269-9f37-05a33efe24fb"
      },
      "source": [
        "### 4) Process the documents into vectorstore and save it to disk\n",
        "\n",
        "Real world documents can be very long, this makes it hard to fit in the context window of many models. Even for those models that could fit the full post in their context window, models can struggle to find information in very long inputs.\n",
        "\n",
        "To handle this we’ll split the Document into chunks for embedding and vector storage. More on text splitting [here](https://python.langchain.com/v0.2/docs/concepts/#text-splitters)"
      ]
    },
    {
      "cell_type": "code",
      "execution_count": 17,
      "id": "804c85f6-181b-4291-a685-d6b378015544",
      "metadata": {
        "colab": {
          "base_uri": "https://localhost:8080/"
        },
        "id": "804c85f6-181b-4291-a685-d6b378015544",
        "outputId": "ec8742d2-d131-4dfc-ab1e-854694194e0e"
      },
      "outputs": [
        {
          "name": "stderr",
          "output_type": "stream",
          "text": [
            "Embedding text from websites...: 100%|██████████| 622/622 [00:00<00:00, 880.93it/s]\n",
            "Embedding text from pdfs...: 0it [00:00, ?it/s]\n"
          ]
        }
      ],
      "source": [
        "# Here we create a faiss vector store from the documents and save it to disk.\n",
        "from langchain_community.vectorstores import FAISS\n",
        "from langchain_core.output_parsers import StrOutputParser\n",
        "from langchain.text_splitter import CharacterTextSplitter\n",
        "from tqdm import tqdm\n",
        "\n",
        "text_splitter = CharacterTextSplitter(chunk_size=400, separator=\" \", chunk_overlap=80)\n",
        "\n",
        "documents = []\n",
        "\n",
        "def clean_text(text):\n",
        "    return text.replace('\\n', ' ').replace('\\t', ' ').replace('\\r', ' ').replace('  ', ' ')\n",
        "\n",
        "for docs in tqdm(datahandler.webloaders, desc='Embedding text from websites...'):  # Had to cut down data to a quarter's worth cuz no more tokens in model to run\n",
        "    for i in range(len(docs)):\n",
        "        documents.extend(text_splitter.split_text(clean_text(docs[i].page_content)))\n",
        "\n",
        "for pdf in tqdm(pdf_data, desc='Embedding text from pdfs...'):  # Had to cut down data to a quarter's worth cuz no more tokens in model to run\n",
        "    documents.extend(text_splitter.split_text(clean_text(pdf)))\n",
        "\n",
        "# metadatas = []\n",
        "# for i, d in enumerate(documents):\n",
        "#     splits = text_splitter.split_text(d)\n",
        "#     docs.extend(splits)\n",
        "#     # metadatas.extend([{\"source\": sources[i]}] * len(splits))\n",
        "\n",
        "# You will only need to do this once, later on we will restore the already saved vectorstore\n",
        "store = FAISS.from_texts(documents, embedder)\n",
        "VECTOR_STORE = './data/nv_embedding'\n",
        "store.save_local(VECTOR_STORE)"
      ]
    },
    {
      "cell_type": "markdown",
      "id": "f867df18-11c8-45ea-b81c-1603459431f9",
      "metadata": {
        "id": "f867df18-11c8-45ea-b81c-1603459431f9"
      },
      "source": [
        "To enable runtime search, we index text chunks by embedding each document split and storing these embeddings in a vector database. Later to search, we embed the query and perform a similarity search to find the stored splits with embeddings most similar to the query."
      ]
    },
    {
      "cell_type": "markdown",
      "id": "3fe85dad-12bb-47d2-a407-9b89b5270d4e",
      "metadata": {
        "id": "3fe85dad-12bb-47d2-a407-9b89b5270d4e"
      },
      "source": [
        "### 5) Read the previously processed & saved vectore store back"
      ]
    },
    {
      "cell_type": "code",
      "execution_count": 9,
      "id": "5de3e07d-5fbe-4fe7-8f23-ed0b082f2413",
      "metadata": {
        "id": "5de3e07d-5fbe-4fe7-8f23-ed0b082f2413"
      },
      "outputs": [],
      "source": [
        "from langchain_community.vectorstores import FAISS\n",
        "from langchain_core.output_parsers import StrOutputParser\n",
        "from langchain.text_splitter import CharacterTextSplitter\n",
        "from tqdm import tqdm\n",
        "\n",
        "\n",
        "# Load the FAISS vectorestore back.\n",
        "VECTOR_STORE = './data/nv_embedding'\n",
        "store = FAISS.load_local(VECTOR_STORE, embedder, allow_dangerous_deserialization=True)"
      ]
    },
    {
      "cell_type": "markdown",
      "id": "4a41ff63-6adc-4055-8bc4-e7ecaad0fb4d",
      "metadata": {
        "id": "4a41ff63-6adc-4055-8bc4-e7ecaad0fb4d"
      },
      "source": [
        "### 6) Wrap the restored vectorsore into a retriever and ask our question"
      ]
    },
    {
      "cell_type": "code",
      "execution_count": 10,
      "id": "5aa362c9-48ab-4646-bc29-bc2aca92505d",
      "metadata": {
        "id": "5aa362c9-48ab-4646-bc29-bc2aca92505d"
      },
      "outputs": [],
      "source": [
        "from langchain_core.runnables import RunnablePassthrough\n",
        "from langchain_core.prompts import ChatPromptTemplate\n",
        "\n",
        "retriever = store.as_retriever()\n",
        "\n",
        "prompt = ChatPromptTemplate.from_messages(\n",
        "    [\n",
        "        (\n",
        "            \"system\",\n",
        "            \"Answer solely based on the following:\\n<Documents>\\n{context}\\n</Documents>\",\n",
        "        ),\n",
        "        (\"user\", \"{question}\"),\n",
        "    ]\n",
        ")\n",
        "\n",
        "# Langchain's LCEL(LangChain Expression Language) Runnable protocol is used to define the chain\n",
        "# LCEL allows pipe together components and functions\n",
        "chain = (\n",
        "    {\"context\": retriever, \"question\": RunnablePassthrough()}\n",
        "    | prompt\n",
        "    | llm\n",
        "    | StrOutputParser()\n",
        ")"
      ]
    },
    {
      "cell_type": "markdown",
      "id": "18d318b0",
      "metadata": {
        "id": "18d318b0"
      },
      "source": [
        "Case 1: When there is no information relevant to question"
      ]
    },
    {
      "cell_type": "code",
      "execution_count": 11,
      "id": "9798ab63",
      "metadata": {
        "id": "9798ab63"
      },
      "outputs": [
        {
          "name": "stdout",
          "output_type": "stream",
          "text": [
            "There is no information provided in the documents about a component or entity called \"two hundred and twenty five million.\" The documents contain information about various financial transactions, mortgage and loan balances, estate duty calculations, and rules related to M&A allowance and motor vehicle expenses, but there is no mention of a \"component\" with a value of 225 million.\n"
          ]
        }
      ],
      "source": [
        "print(chain.invoke(\"What is component two hundred and twenty five million?\"))"
      ]
    },
    {
      "cell_type": "markdown",
      "id": "3223cefb",
      "metadata": {
        "id": "3223cefb"
      },
      "source": [
        "Case 2: Simple questions"
      ]
    },
    {
      "cell_type": "code",
      "execution_count": null,
      "id": "28ba4ef8",
      "metadata": {
        "id": "28ba4ef8"
      },
      "outputs": [],
      "source": [
        "print(chain.invoke(\"How do i file taxes for my company?\"))"
      ]
    },
    {
      "cell_type": "markdown",
      "id": "87b0f962",
      "metadata": {
        "id": "87b0f962"
      },
      "source": [
        "Case 3: Complex questions"
      ]
    },
    {
      "cell_type": "code",
      "execution_count": null,
      "id": "af3c2e9c",
      "metadata": {
        "id": "af3c2e9c"
      },
      "outputs": [],
      "source": [
        "print(chain.invoke(\"In the event my foriegn employee is injured at work, how do i report the incident and claim reparations?\"))"
      ]
    },
    {
      "cell_type": "markdown",
      "id": "yxJMeKE-LItu",
      "metadata": {
        "id": "yxJMeKE-LItu"
      },
      "source": [
        "Case 4: Realistic questions"
      ]
    },
    {
      "cell_type": "code",
      "execution_count": 13,
      "id": "SM9lTRNlLItw",
      "metadata": {
        "colab": {
          "base_uri": "https://localhost:8080/"
        },
        "id": "SM9lTRNlLItw",
        "outputId": "16202adf-df26-453a-f34e-820968f35832"
      },
      "outputs": [
        {
          "data": {
            "text/plain": [
              "'From 2025 onwards, as an employer whose firm qualifies for PWCS (Productivity Works Credits Scheme), you can receive co-funding from the government of up to 50% for the first tier of wage increases and 15% to 30% for the second tier of wage increases. This co-funding support applies to wage increases given in qualifying year 2025 and onwards. The gross monthly wage ceiling for PWCS co-funding will be increased to $3,000 in qualifying years 2025 and 2026.\\n\\nPlease note that the specific rates and details of the co-funding support may be subject to changes or updates in the PWCS guidelines. It is recommended to consult the official guidelines or contact the relevant authorities for the most accurate and up-to-date information.'"
            ]
          },
          "execution_count": 13,
          "metadata": {},
          "output_type": "execute_result"
        }
      ],
      "source": [
        "chain.invoke(\"I am an employer whose firm qualifies for PWCs. From 2025 onwards, how much Co-Funding can I recieve from the government?\")\n",
        "# In its current state, the model does an ethan for this quite hard question, although it at least does retrieve some (few?) relevant PWCS info."
      ]
    },
    {
      "cell_type": "markdown",
      "id": "c29478b0-0fb1-4678-93cd-b159dc9884a7",
      "metadata": {
        "id": "c29478b0-0fb1-4678-93cd-b159dc9884a7"
      },
      "source": [
        "## RAG Example with LLM, Embedding & Reranking"
      ]
    },
    {
      "cell_type": "code",
      "execution_count": null,
      "id": "972c310b-5333-4b41-a6dd-ce83e739e6dc",
      "metadata": {
        "colab": {
          "base_uri": "https://localhost:8080/",
          "height": 53
        },
        "id": "972c310b-5333-4b41-a6dd-ce83e739e6dc",
        "outputId": "c8589d97-6257-4ac6-8456-671b45996b9d"
      },
      "outputs": [
        {
          "data": {
            "application/vnd.google.colaboratory.intrinsic+json": {
              "type": "string"
            },
            "text/plain": [
              "\"The document does not provide information on when Gustav's grandson ascended the throne. There is no mention of any Gustav, his grandson, or the event of ascending the throne in the provided document.\""
            ]
          },
          "execution_count": 12,
          "metadata": {},
          "output_type": "execute_result"
        }
      ],
      "source": [
        "# Let's test a more complex query using the above LLM Embedding chain and see if the reranker can help.\n",
        "chain.invoke(\"In which year Gustav's grandson ascended the throne?\")"
      ]
    },
    {
      "cell_type": "markdown",
      "id": "9d3854c7-68a3-45b4-9e69-2c4e583d651f",
      "metadata": {
        "id": "9d3854c7-68a3-45b4-9e69-2c4e583d651f"
      },
      "source": [
        "### Enhancing accuracy for single data sources\n",
        "\n",
        "This example demonstrates how a re-ranking model can be used to combine retrieval results and improve accuracy during retrieval of documents.\n",
        "\n",
        "Typically, reranking is a critical piece of high-accuracy, efficient retrieval pipelines. Generally, there are two important use cases:\n",
        "\n",
        "- Combining results from multiple data sources\n",
        "- Enhancing accuracy for single data sources\n",
        "\n",
        "Here, we focus on demonstrating only the second use case. If you want to know more, check [here](https://github.com/langchain-ai/langchain-nvidia/blob/main/libs/ai-endpoints/docs/retrievers/nvidia_rerank.ipynb)"
      ]
    },
    {
      "cell_type": "code",
      "execution_count": null,
      "id": "b7e8677e-a37f-42e2-8fea-4c4413f7d682",
      "metadata": {
        "collapsed": true,
        "id": "b7e8677e-a37f-42e2-8fea-4c4413f7d682"
      },
      "outputs": [],
      "source": [
        "from langchain_nvidia_ai_endpoints import NVIDIARerank\n",
        "from langchain_core.runnables import RunnableParallel\n",
        "\n",
        "# We will narrow the collection to 100 results and further narrow it to 10 with the reranker.\n",
        "retriever = store.as_retriever(search_kwargs={'k':100}) # typically k will be 1000 for real world use-cases\n",
        "ranker = NVIDIARerank(model='nv-rerank-qa-mistral-4b:1', top_n=10)\n",
        "\n",
        "prompt = ChatPromptTemplate.from_messages(\n",
        "    [\n",
        "        (\n",
        "            \"system\",\n",
        "            \"Answer solely based on the following context:\\n<Documents>\\n{context}\\n</Documents>\",\n",
        "        ),\n",
        "        (\"user\", \"{question}\"),\n",
        "    ]\n",
        ")\n",
        "\n",
        "reranker = lambda input: ranker.compress_documents(query=input['question'], documents=input['context'])\n",
        "\n",
        "chain_with_ranker = (\n",
        "    RunnableParallel({\"context\": retriever, \"question\": RunnablePassthrough()})\n",
        "    | {\"context\": reranker, \"question\": lambda input: input['question']}\n",
        "    | prompt\n",
        "    | llm\n",
        "    | StrOutputParser()\n",
        ")\n"
      ]
    },
    {
      "cell_type": "code",
      "execution_count": null,
      "id": "f1940aae",
      "metadata": {
        "id": "f1940aae",
        "outputId": "33a3f36f-5d7a-41a4-b919-56e724ff9f7d"
      },
      "outputs": [
        {
          "name": "stdout",
          "output_type": "stream",
          "text": [
            "Based on the provided documents, to file taxes for your company, you need to follow these steps:\n",
            "\n",
            "1. Ensure that you are duly authorized by your company as an 'Approver' for Corporate Tax (Filing and Applications) in Corppass. You can refer to the step-by-step guides for assistance on Corppass setup.\n",
            "2. Have your Singpass and your company’s Unique Entity Number (UEN)/ Entity ID ready.\n",
            "3. Visit the mytax.iras.gov.sg website to file the Corporate Income Tax Return for your company.\n",
            "4. If your company is filing Form C, you need to submit the financial statements/certified accounts and tax computation(s) for the relevant Year of Assessment (YA).\n",
            "5. If your company meets the qualifying conditions to file Form C-S or Form C-S (Lite), you can choose to file the simplified version, Form C-S (Lite), if your company has an annual revenue of $200,000 or below.\n",
            "\n",
            "You can also visit the Basic Guide to Corporate Income Tax for Companies page to get help with filing your company’s tax returns for the first time. Additionally, you can access the New Company Start-Up Kit, an interactive guide, to learn more.\n"
          ]
        }
      ],
      "source": [
        "print(chain_with_ranker.invoke(\"How do i file taxes for my company?\"))"
      ]
    },
    {
      "cell_type": "code",
      "execution_count": null,
      "id": "30083cbb",
      "metadata": {
        "id": "30083cbb",
        "outputId": "a517c0c1-21cf-4b66-bf32-0cc299513ea4"
      },
      "outputs": [
        {
          "name": "stdout",
          "output_type": "stream",
          "text": [
            "Based on the provided documents, if your foreign employee is injured at work, you can report the incident and claim reparations under the Work Injury Compensation Act (WICA). Specifically, the documents mention that input tax can be claimed for work injury compensation insurance that is obligatory under WICA for both local and foreign employees performing manual work or non-manual work earning $2,600 or less a month.\n",
            "\n",
            "To report the incident and make a claim, you can visit the Ministry of Manpower (MOM) webpage on WICA or contact MOM at +65 6438 5122. However, it is important to note that medical and accident insurance premiums for your staff are generally not allowable for input tax claims under the GST (General) Regulations, unless the insurance or payment of compensation is obligatory under WICA or under any collective agreement within the meaning of the Industrial Relations Act.\n",
            "\n",
            "Therefore, it seems that you can report the incident and claim reparations under WICA, but you should verify the specific requirements and conditions for your situation with MOM or your trade union.\n"
          ]
        }
      ],
      "source": [
        "print(chain_with_ranker.invoke(\"In the event my foriegn employee is injured at work, how do i report the incident and claim reparations?\"))"
      ]
    },
    {
      "cell_type": "markdown",
      "id": "79d5186f-12c0-47c9-9e85-5987fedf7b97",
      "metadata": {
        "id": "79d5186f-12c0-47c9-9e85-5987fedf7b97"
      },
      "source": [
        "#### Note:\n",
        "- In this notebook, we have used NVIDIA NIM microservices from the NVIDIA API Catalog.\n",
        "- The above APIs, ChatNVIDIA, NVIDIAEmbedding, and NVIDIARerank, also support self-hosted NIM microservices.\n",
        "- Change the `base_url` to your deployed NIM URL.\n",
        "- Example: `llm = ChatNVIDIA(base_url=\"http://localhost:8000/v1\", model=\"meta/llama3-8b-instruct\")`\n",
        "- NIM can be hosted locally using Docker, following the [NVIDIA NIM for LLMs](https://docs.nvidia.com/nim/large-language-models/latest/getting-started.html) documentation."
      ]
    },
    {
      "cell_type": "code",
      "execution_count": null,
      "id": "61236a22-922f-403f-89d1-1172251aeb0c",
      "metadata": {
        "id": "61236a22-922f-403f-89d1-1172251aeb0c"
      },
      "outputs": [],
      "source": [
        "# Example Code snippet if you want to use a self-hosted NIM\n",
        "from langchain_nvidia_ai_endpoints import ChatNVIDIA\n",
        "\n",
        "# connect to an LLM NIM running at localhost:8000, specifying a specific model\n",
        "llm = ChatNVIDIA(base_url=\"http://localhost:8000/v1\", model=\"meta/llama3-8b-instruct\")"
      ]
    }
  ],
  "metadata": {
    "accelerator": "TPU",
    "colab": {
      "gpuType": "V28",
      "provenance": []
    },
    "kernelspec": {
      "display_name": "venv",
      "language": "python",
      "name": "python3"
    },
    "language_info": {
      "codemirror_mode": {
        "name": "ipython",
        "version": 3
      },
      "file_extension": ".py",
      "mimetype": "text/x-python",
      "name": "python",
      "nbconvert_exporter": "python",
      "pygments_lexer": "ipython3",
      "version": "3.10.12"
    }
  },
  "nbformat": 4,
  "nbformat_minor": 5
}
